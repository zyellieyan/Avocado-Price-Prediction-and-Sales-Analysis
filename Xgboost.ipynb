{
 "cells": [
  {
   "cell_type": "markdown",
   "metadata": {},
   "source": [
    "# preprocessing"
   ]
  },
  {
   "cell_type": "code",
   "execution_count": 128,
   "metadata": {},
   "outputs": [],
   "source": [
    "import pandas as pd \n",
    "import numpy as np\n",
    "import matplotlib.pyplot as plt\n",
    "import seaborn as sns\n",
    "\n",
    "from sklearn.model_selection import train_test_split\n",
    "from sklearn.preprocessing import LabelEncoder, LabelBinarizer\n",
    "\n",
    "from sklearn.metrics import mean_squared_error\n",
    "from math import sqrt\n",
    "\n",
    "\n",
    "\n",
    "%matplotlib inline\n",
    "pd.options.display.max_columns = None\n"
   ]
  },
  {
   "cell_type": "code",
   "execution_count": 129,
   "metadata": {},
   "outputs": [
    {
     "name": "stdout",
     "output_type": "stream",
     "text": [
      "(18249, 17)\n"
     ]
    },
    {
     "data": {
      "text/html": [
       "<div>\n",
       "<style scoped>\n",
       "    .dataframe tbody tr th:only-of-type {\n",
       "        vertical-align: middle;\n",
       "    }\n",
       "\n",
       "    .dataframe tbody tr th {\n",
       "        vertical-align: top;\n",
       "    }\n",
       "\n",
       "    .dataframe thead th {\n",
       "        text-align: right;\n",
       "    }\n",
       "</style>\n",
       "<table border=\"1\" class=\"dataframe\">\n",
       "  <thead>\n",
       "    <tr style=\"text-align: right;\">\n",
       "      <th></th>\n",
       "      <th>AveragePrice</th>\n",
       "      <th>Total Volume</th>\n",
       "      <th>4046</th>\n",
       "      <th>4225</th>\n",
       "      <th>4770</th>\n",
       "      <th>Total Bags</th>\n",
       "      <th>Small Bags</th>\n",
       "      <th>Large Bags</th>\n",
       "      <th>XLarge Bags</th>\n",
       "      <th>type</th>\n",
       "      <th>year</th>\n",
       "      <th>region</th>\n",
       "      <th>month</th>\n",
       "      <th>winter</th>\n",
       "      <th>spring</th>\n",
       "      <th>summer</th>\n",
       "      <th>autumn</th>\n",
       "    </tr>\n",
       "  </thead>\n",
       "  <tbody>\n",
       "    <tr>\n",
       "      <th>0</th>\n",
       "      <td>1.33</td>\n",
       "      <td>64236.62</td>\n",
       "      <td>1036.74</td>\n",
       "      <td>54454.85</td>\n",
       "      <td>48.16</td>\n",
       "      <td>8696.87</td>\n",
       "      <td>8603.62</td>\n",
       "      <td>93.25</td>\n",
       "      <td>0.0</td>\n",
       "      <td>0</td>\n",
       "      <td>2015</td>\n",
       "      <td>Albany</td>\n",
       "      <td>12</td>\n",
       "      <td>1</td>\n",
       "      <td>0</td>\n",
       "      <td>0</td>\n",
       "      <td>0</td>\n",
       "    </tr>\n",
       "    <tr>\n",
       "      <th>1</th>\n",
       "      <td>1.35</td>\n",
       "      <td>54876.98</td>\n",
       "      <td>674.28</td>\n",
       "      <td>44638.81</td>\n",
       "      <td>58.33</td>\n",
       "      <td>9505.56</td>\n",
       "      <td>9408.07</td>\n",
       "      <td>97.49</td>\n",
       "      <td>0.0</td>\n",
       "      <td>0</td>\n",
       "      <td>2015</td>\n",
       "      <td>Albany</td>\n",
       "      <td>12</td>\n",
       "      <td>1</td>\n",
       "      <td>0</td>\n",
       "      <td>0</td>\n",
       "      <td>0</td>\n",
       "    </tr>\n",
       "    <tr>\n",
       "      <th>2</th>\n",
       "      <td>0.93</td>\n",
       "      <td>118220.22</td>\n",
       "      <td>794.70</td>\n",
       "      <td>109149.67</td>\n",
       "      <td>130.50</td>\n",
       "      <td>8145.35</td>\n",
       "      <td>8042.21</td>\n",
       "      <td>103.14</td>\n",
       "      <td>0.0</td>\n",
       "      <td>0</td>\n",
       "      <td>2015</td>\n",
       "      <td>Albany</td>\n",
       "      <td>12</td>\n",
       "      <td>1</td>\n",
       "      <td>0</td>\n",
       "      <td>0</td>\n",
       "      <td>0</td>\n",
       "    </tr>\n",
       "    <tr>\n",
       "      <th>3</th>\n",
       "      <td>1.08</td>\n",
       "      <td>78992.15</td>\n",
       "      <td>1132.00</td>\n",
       "      <td>71976.41</td>\n",
       "      <td>72.58</td>\n",
       "      <td>5811.16</td>\n",
       "      <td>5677.40</td>\n",
       "      <td>133.76</td>\n",
       "      <td>0.0</td>\n",
       "      <td>0</td>\n",
       "      <td>2015</td>\n",
       "      <td>Albany</td>\n",
       "      <td>12</td>\n",
       "      <td>1</td>\n",
       "      <td>0</td>\n",
       "      <td>0</td>\n",
       "      <td>0</td>\n",
       "    </tr>\n",
       "    <tr>\n",
       "      <th>4</th>\n",
       "      <td>1.28</td>\n",
       "      <td>51039.60</td>\n",
       "      <td>941.48</td>\n",
       "      <td>43838.39</td>\n",
       "      <td>75.78</td>\n",
       "      <td>6183.95</td>\n",
       "      <td>5986.26</td>\n",
       "      <td>197.69</td>\n",
       "      <td>0.0</td>\n",
       "      <td>0</td>\n",
       "      <td>2015</td>\n",
       "      <td>Albany</td>\n",
       "      <td>11</td>\n",
       "      <td>1</td>\n",
       "      <td>0</td>\n",
       "      <td>0</td>\n",
       "      <td>0</td>\n",
       "    </tr>\n",
       "  </tbody>\n",
       "</table>\n",
       "</div>"
      ],
      "text/plain": [
       "   AveragePrice  Total Volume     4046       4225    4770  Total Bags  \\\n",
       "0          1.33      64236.62  1036.74   54454.85   48.16     8696.87   \n",
       "1          1.35      54876.98   674.28   44638.81   58.33     9505.56   \n",
       "2          0.93     118220.22   794.70  109149.67  130.50     8145.35   \n",
       "3          1.08      78992.15  1132.00   71976.41   72.58     5811.16   \n",
       "4          1.28      51039.60   941.48   43838.39   75.78     6183.95   \n",
       "\n",
       "   Small Bags  Large Bags  XLarge Bags  type  year  region  month  winter  \\\n",
       "0     8603.62       93.25          0.0     0  2015  Albany     12       1   \n",
       "1     9408.07       97.49          0.0     0  2015  Albany     12       1   \n",
       "2     8042.21      103.14          0.0     0  2015  Albany     12       1   \n",
       "3     5677.40      133.76          0.0     0  2015  Albany     12       1   \n",
       "4     5986.26      197.69          0.0     0  2015  Albany     11       1   \n",
       "\n",
       "   spring  summer  autumn  \n",
       "0       0       0       0  \n",
       "1       0       0       0  \n",
       "2       0       0       0  \n",
       "3       0       0       0  \n",
       "4       0       0       0  "
      ]
     },
     "execution_count": 129,
     "metadata": {},
     "output_type": "execute_result"
    }
   ],
   "source": [
    "data = pd.read_csv('wholedata_xgboost.csv')\n",
    "print(data.shape)\n",
    "data.head()"
   ]
  },
  {
   "cell_type": "markdown",
   "metadata": {},
   "source": [
    "## train, test split"
   ]
  },
  {
   "cell_type": "code",
   "execution_count": 130,
   "metadata": {},
   "outputs": [
    {
     "name": "stdout",
     "output_type": "stream",
     "text": [
      "16\n",
      "(18249, 16) (18249,)\n"
     ]
    }
   ],
   "source": [
    "X = data.drop('AveragePrice',axis=1)\n",
    "feature_list = list(X.columns)\n",
    "print(len(feature_list))\n",
    "y = data['AveragePrice']\n",
    "\n",
    "print(X.shape,y.shape)"
   ]
  },
  {
   "cell_type": "code",
   "execution_count": 131,
   "metadata": {},
   "outputs": [
    {
     "name": "stdout",
     "output_type": "stream",
     "text": [
      "(14599, 16) (14599,)\n",
      "---------------------\n",
      "(3650, 16) (3650,)\n"
     ]
    }
   ],
   "source": [
    "X_train, X_test, y_train, y_test = train_test_split(X, y, test_size=0.2, random_state=2020)\n",
    "print(X_train.shape, y_train.shape)\n",
    "print('---------------------')\n",
    "print(X_test.shape, y_test.shape)"
   ]
  },
  {
   "cell_type": "markdown",
   "metadata": {},
   "source": [
    "## make a function of RMSE"
   ]
  },
  {
   "cell_type": "code",
   "execution_count": 132,
   "metadata": {},
   "outputs": [],
   "source": [
    "def RMSE(y_true, y_pred):\n",
    "    return sqrt(mean_squared_error(y_true,y_pred))"
   ]
  },
  {
   "cell_type": "markdown",
   "metadata": {},
   "source": [
    "# XGBoost"
   ]
  },
  {
   "cell_type": "code",
   "execution_count": 133,
   "metadata": {},
   "outputs": [],
   "source": [
    "import xgboost as xgb\n",
    "import pandas as pd\n",
    "import numpy as np\n",
    "import pickle\n",
    "import sys\n",
    "import matplotlib.pyplot as plt\n",
    "from sklearn.preprocessing import StandardScaler\n",
    "from sklearn.model_selection import GridSearchCV\n",
    "from scipy.sparse import csr_matrix, hstack\n",
    "from sklearn.model_selection import KFold, train_test_split\n",
    "\n",
    "from xgboost import XGBRegressor\n",
    "\n",
    "import warnings\n",
    "warnings.filterwarnings('ignore')\n",
    "\n",
    "%matplotlib inline"
   ]
  },
  {
   "cell_type": "markdown",
   "metadata": {},
   "source": [
    "## label encoder"
   ]
  },
  {
   "cell_type": "code",
   "execution_count": 134,
   "metadata": {},
   "outputs": [],
   "source": [
    "from sklearn.preprocessing import LabelEncoder"
   ]
  },
  {
   "cell_type": "code",
   "execution_count": 135,
   "metadata": {},
   "outputs": [],
   "source": [
    "le = LabelEncoder()\n",
    "le.fit(X_train['region'])\n",
    "X_train['region'] = le.transform(X_train['region'])\n",
    "\n",
    "X_test['region'] = le.transform(X_test['region'])"
   ]
  },
  {
   "cell_type": "code",
   "execution_count": 136,
   "metadata": {},
   "outputs": [
    {
     "data": {
      "text/html": [
       "<div>\n",
       "<style scoped>\n",
       "    .dataframe tbody tr th:only-of-type {\n",
       "        vertical-align: middle;\n",
       "    }\n",
       "\n",
       "    .dataframe tbody tr th {\n",
       "        vertical-align: top;\n",
       "    }\n",
       "\n",
       "    .dataframe thead th {\n",
       "        text-align: right;\n",
       "    }\n",
       "</style>\n",
       "<table border=\"1\" class=\"dataframe\">\n",
       "  <thead>\n",
       "    <tr style=\"text-align: right;\">\n",
       "      <th></th>\n",
       "      <th>Total Volume</th>\n",
       "      <th>4046</th>\n",
       "      <th>4225</th>\n",
       "      <th>4770</th>\n",
       "      <th>Total Bags</th>\n",
       "      <th>Small Bags</th>\n",
       "      <th>Large Bags</th>\n",
       "      <th>XLarge Bags</th>\n",
       "      <th>type</th>\n",
       "      <th>year</th>\n",
       "      <th>region</th>\n",
       "      <th>month</th>\n",
       "      <th>winter</th>\n",
       "      <th>spring</th>\n",
       "      <th>summer</th>\n",
       "      <th>autumn</th>\n",
       "    </tr>\n",
       "  </thead>\n",
       "  <tbody>\n",
       "    <tr>\n",
       "      <th>8621</th>\n",
       "      <td>1140210.38</td>\n",
       "      <td>587439.51</td>\n",
       "      <td>258369.66</td>\n",
       "      <td>5543.59</td>\n",
       "      <td>288857.62</td>\n",
       "      <td>183640.29</td>\n",
       "      <td>104915.08</td>\n",
       "      <td>302.25</td>\n",
       "      <td>0</td>\n",
       "      <td>2018</td>\n",
       "      <td>11</td>\n",
       "      <td>1</td>\n",
       "      <td>1</td>\n",
       "      <td>0</td>\n",
       "      <td>0</td>\n",
       "      <td>0</td>\n",
       "    </tr>\n",
       "    <tr>\n",
       "      <th>17043</th>\n",
       "      <td>25301.81</td>\n",
       "      <td>729.00</td>\n",
       "      <td>12909.58</td>\n",
       "      <td>11.45</td>\n",
       "      <td>11651.78</td>\n",
       "      <td>484.21</td>\n",
       "      <td>11167.57</td>\n",
       "      <td>0.00</td>\n",
       "      <td>1</td>\n",
       "      <td>2017</td>\n",
       "      <td>43</td>\n",
       "      <td>7</td>\n",
       "      <td>0</td>\n",
       "      <td>0</td>\n",
       "      <td>1</td>\n",
       "      <td>0</td>\n",
       "    </tr>\n",
       "    <tr>\n",
       "      <th>6434</th>\n",
       "      <td>3014558.52</td>\n",
       "      <td>557159.67</td>\n",
       "      <td>1180490.16</td>\n",
       "      <td>267511.89</td>\n",
       "      <td>1009396.80</td>\n",
       "      <td>647895.99</td>\n",
       "      <td>296531.31</td>\n",
       "      <td>64969.50</td>\n",
       "      <td>0</td>\n",
       "      <td>2017</td>\n",
       "      <td>15</td>\n",
       "      <td>7</td>\n",
       "      <td>0</td>\n",
       "      <td>0</td>\n",
       "      <td>1</td>\n",
       "      <td>0</td>\n",
       "    </tr>\n",
       "    <tr>\n",
       "      <th>5740</th>\n",
       "      <td>653598.86</td>\n",
       "      <td>51628.46</td>\n",
       "      <td>402657.24</td>\n",
       "      <td>5171.88</td>\n",
       "      <td>194141.28</td>\n",
       "      <td>192627.66</td>\n",
       "      <td>800.29</td>\n",
       "      <td>713.33</td>\n",
       "      <td>0</td>\n",
       "      <td>2017</td>\n",
       "      <td>2</td>\n",
       "      <td>8</td>\n",
       "      <td>0</td>\n",
       "      <td>0</td>\n",
       "      <td>0</td>\n",
       "      <td>1</td>\n",
       "    </tr>\n",
       "    <tr>\n",
       "      <th>11019</th>\n",
       "      <td>18054.18</td>\n",
       "      <td>6605.19</td>\n",
       "      <td>10611.69</td>\n",
       "      <td>0.00</td>\n",
       "      <td>837.30</td>\n",
       "      <td>0.00</td>\n",
       "      <td>837.30</td>\n",
       "      <td>0.00</td>\n",
       "      <td>1</td>\n",
       "      <td>2015</td>\n",
       "      <td>36</td>\n",
       "      <td>8</td>\n",
       "      <td>0</td>\n",
       "      <td>0</td>\n",
       "      <td>0</td>\n",
       "      <td>1</td>\n",
       "    </tr>\n",
       "  </tbody>\n",
       "</table>\n",
       "</div>"
      ],
      "text/plain": [
       "       Total Volume       4046        4225       4770  Total Bags  Small Bags  \\\n",
       "8621     1140210.38  587439.51   258369.66    5543.59   288857.62   183640.29   \n",
       "17043      25301.81     729.00    12909.58      11.45    11651.78      484.21   \n",
       "6434     3014558.52  557159.67  1180490.16  267511.89  1009396.80   647895.99   \n",
       "5740      653598.86   51628.46   402657.24    5171.88   194141.28   192627.66   \n",
       "11019      18054.18    6605.19    10611.69       0.00      837.30        0.00   \n",
       "\n",
       "       Large Bags  XLarge Bags  type  year  region  month  winter  spring  \\\n",
       "8621    104915.08       302.25     0  2018      11      1       1       0   \n",
       "17043    11167.57         0.00     1  2017      43      7       0       0   \n",
       "6434    296531.31     64969.50     0  2017      15      7       0       0   \n",
       "5740       800.29       713.33     0  2017       2      8       0       0   \n",
       "11019      837.30         0.00     1  2015      36      8       0       0   \n",
       "\n",
       "       summer  autumn  \n",
       "8621        0       0  \n",
       "17043       1       0  \n",
       "6434        1       0  \n",
       "5740        0       1  \n",
       "11019       0       1  "
      ]
     },
     "execution_count": 136,
     "metadata": {},
     "output_type": "execute_result"
    }
   ],
   "source": [
    "X_train.head()"
   ]
  },
  {
   "cell_type": "code",
   "execution_count": 137,
   "metadata": {},
   "outputs": [
    {
     "data": {
      "text/html": [
       "<div>\n",
       "<style scoped>\n",
       "    .dataframe tbody tr th:only-of-type {\n",
       "        vertical-align: middle;\n",
       "    }\n",
       "\n",
       "    .dataframe tbody tr th {\n",
       "        vertical-align: top;\n",
       "    }\n",
       "\n",
       "    .dataframe thead th {\n",
       "        text-align: right;\n",
       "    }\n",
       "</style>\n",
       "<table border=\"1\" class=\"dataframe\">\n",
       "  <thead>\n",
       "    <tr style=\"text-align: right;\">\n",
       "      <th></th>\n",
       "      <th>Total Volume</th>\n",
       "      <th>4046</th>\n",
       "      <th>4225</th>\n",
       "      <th>4770</th>\n",
       "      <th>Total Bags</th>\n",
       "      <th>Small Bags</th>\n",
       "      <th>Large Bags</th>\n",
       "      <th>XLarge Bags</th>\n",
       "      <th>type</th>\n",
       "      <th>year</th>\n",
       "      <th>region</th>\n",
       "      <th>month</th>\n",
       "      <th>winter</th>\n",
       "      <th>spring</th>\n",
       "      <th>summer</th>\n",
       "      <th>autumn</th>\n",
       "    </tr>\n",
       "  </thead>\n",
       "  <tbody>\n",
       "    <tr>\n",
       "      <th>17013</th>\n",
       "      <td>19433.90</td>\n",
       "      <td>7271.61</td>\n",
       "      <td>8960.86</td>\n",
       "      <td>2.88</td>\n",
       "      <td>3198.55</td>\n",
       "      <td>3198.55</td>\n",
       "      <td>0.00</td>\n",
       "      <td>0.00</td>\n",
       "      <td>1</td>\n",
       "      <td>2017</td>\n",
       "      <td>42</td>\n",
       "      <td>2</td>\n",
       "      <td>0</td>\n",
       "      <td>1</td>\n",
       "      <td>0</td>\n",
       "      <td>0</td>\n",
       "    </tr>\n",
       "    <tr>\n",
       "      <th>1152</th>\n",
       "      <td>2617806.65</td>\n",
       "      <td>1232603.24</td>\n",
       "      <td>914725.31</td>\n",
       "      <td>74252.61</td>\n",
       "      <td>396225.49</td>\n",
       "      <td>378048.56</td>\n",
       "      <td>13371.54</td>\n",
       "      <td>4805.39</td>\n",
       "      <td>0</td>\n",
       "      <td>2015</td>\n",
       "      <td>22</td>\n",
       "      <td>11</td>\n",
       "      <td>1</td>\n",
       "      <td>0</td>\n",
       "      <td>0</td>\n",
       "      <td>0</td>\n",
       "    </tr>\n",
       "    <tr>\n",
       "      <th>11868</th>\n",
       "      <td>194132.30</td>\n",
       "      <td>69519.19</td>\n",
       "      <td>82145.27</td>\n",
       "      <td>78.72</td>\n",
       "      <td>42389.12</td>\n",
       "      <td>8993.07</td>\n",
       "      <td>33396.05</td>\n",
       "      <td>0.00</td>\n",
       "      <td>1</td>\n",
       "      <td>2015</td>\n",
       "      <td>52</td>\n",
       "      <td>4</td>\n",
       "      <td>0</td>\n",
       "      <td>1</td>\n",
       "      <td>0</td>\n",
       "      <td>0</td>\n",
       "    </tr>\n",
       "    <tr>\n",
       "      <th>14351</th>\n",
       "      <td>71367.79</td>\n",
       "      <td>20353.71</td>\n",
       "      <td>13495.03</td>\n",
       "      <td>848.58</td>\n",
       "      <td>36670.47</td>\n",
       "      <td>22878.16</td>\n",
       "      <td>13792.31</td>\n",
       "      <td>0.00</td>\n",
       "      <td>1</td>\n",
       "      <td>2016</td>\n",
       "      <td>46</td>\n",
       "      <td>6</td>\n",
       "      <td>0</td>\n",
       "      <td>0</td>\n",
       "      <td>1</td>\n",
       "      <td>0</td>\n",
       "    </tr>\n",
       "    <tr>\n",
       "      <th>9038</th>\n",
       "      <td>4199974.24</td>\n",
       "      <td>2420770.45</td>\n",
       "      <td>355406.02</td>\n",
       "      <td>16642.51</td>\n",
       "      <td>1407155.26</td>\n",
       "      <td>901796.49</td>\n",
       "      <td>485922.10</td>\n",
       "      <td>19436.67</td>\n",
       "      <td>0</td>\n",
       "      <td>2018</td>\n",
       "      <td>46</td>\n",
       "      <td>1</td>\n",
       "      <td>1</td>\n",
       "      <td>0</td>\n",
       "      <td>0</td>\n",
       "      <td>0</td>\n",
       "    </tr>\n",
       "  </tbody>\n",
       "</table>\n",
       "</div>"
      ],
      "text/plain": [
       "       Total Volume        4046       4225      4770  Total Bags  Small Bags  \\\n",
       "17013      19433.90     7271.61    8960.86      2.88     3198.55     3198.55   \n",
       "1152     2617806.65  1232603.24  914725.31  74252.61   396225.49   378048.56   \n",
       "11868     194132.30    69519.19   82145.27     78.72    42389.12     8993.07   \n",
       "14351      71367.79    20353.71   13495.03    848.58    36670.47    22878.16   \n",
       "9038     4199974.24  2420770.45  355406.02  16642.51  1407155.26   901796.49   \n",
       "\n",
       "       Large Bags  XLarge Bags  type  year  region  month  winter  spring  \\\n",
       "17013        0.00         0.00     1  2017      42      2       0       1   \n",
       "1152     13371.54      4805.39     0  2015      22     11       1       0   \n",
       "11868    33396.05         0.00     1  2015      52      4       0       1   \n",
       "14351    13792.31         0.00     1  2016      46      6       0       0   \n",
       "9038    485922.10     19436.67     0  2018      46      1       1       0   \n",
       "\n",
       "       summer  autumn  \n",
       "17013       0       0  \n",
       "1152        0       0  \n",
       "11868       0       0  \n",
       "14351       1       0  \n",
       "9038        0       0  "
      ]
     },
     "execution_count": 137,
     "metadata": {},
     "output_type": "execute_result"
    }
   ],
   "source": [
    "X_test.head()"
   ]
  },
  {
   "cell_type": "markdown",
   "metadata": {},
   "source": [
    "## basic Xgboost model"
   ]
  },
  {
   "cell_type": "markdown",
   "metadata": {},
   "source": [
    "## Dmatrix"
   ]
  },
  {
   "cell_type": "code",
   "execution_count": 138,
   "metadata": {},
   "outputs": [],
   "source": [
    "dtrain = xgb.DMatrix(X_train, y_train)\n",
    "dtest = xgb.DMatrix(X_test,y_test)"
   ]
  },
  {
   "cell_type": "markdown",
   "metadata": {},
   "source": [
    "## Cross validation"
   ]
  },
  {
   "cell_type": "code",
   "execution_count": 139,
   "metadata": {},
   "outputs": [],
   "source": [
    "xgb_params = {\n",
    "    'seed': 2020\n",
    "}"
   ]
  },
  {
   "cell_type": "code",
   "execution_count": 140,
   "metadata": {
    "scrolled": true
   },
   "outputs": [
    {
     "name": "stdout",
     "output_type": "stream",
     "text": [
      "CV score_train: 0.1672602\n",
      "CV score_test: 0.183451\n",
      "CPU times: user 3.42 s, sys: 76 ms, total: 3.49 s\n",
      "Wall time: 619 ms\n"
     ]
    }
   ],
   "source": [
    "%%time\n",
    "\n",
    "\n",
    "        \n",
    "\n",
    "bst_cv1 = xgb.cv(xgb_params, dtrain, nfold=5, seed=2020)\n",
    "#- num_boost_round： 一个整数，表示boosting 迭代数量   i.e. 树的个数\n",
    "print ('CV score_train:', bst_cv1.iloc[-1,:]['train-rmse-mean'])\n",
    "print ('CV score_test:', bst_cv1.iloc[-1,:]['test-rmse-mean'])"
   ]
  },
  {
   "cell_type": "code",
   "execution_count": 141,
   "metadata": {},
   "outputs": [
    {
     "data": {
      "text/plain": [
       "Text(0.5, 0, 'number of rounds')"
      ]
     },
     "execution_count": 141,
     "metadata": {},
     "output_type": "execute_result"
    },
    {
     "data": {
      "image/png": "[encoded data removed]",
      "text/plain": [
       "<Figure size 432x288 with 1 Axes>"
      ]
     },
     "metadata": {
      "needs_background": "light"
     },
     "output_type": "display_data"
    }
   ],
   "source": [
    "plt.figure()\n",
    "plt.plot(bst_cv1['train-rmse-mean'],color = 'blue',label=\"train-rmse-mean\")\n",
    "plt.plot(bst_cv1['test-rmse-mean'],label=\"test-rmse-mean\")\n",
    "plt.legend()\n",
    "plt.xlabel('number of rounds')"
   ]
  },
  {
   "cell_type": "markdown",
   "metadata": {},
   "source": [
    "# tune"
   ]
  },
  {
   "cell_type": "markdown",
   "metadata": {},
   "source": [
    "## num_boost_round -20"
   ]
  },
  {
   "cell_type": "code",
   "execution_count": 142,
   "metadata": {},
   "outputs": [
    {
     "name": "stdout",
     "output_type": "stream",
     "text": [
      "CV score_train: 0.0974584\n",
      "CV score_test: 0.13650020000000002\n",
      "CPU times: user 14.2 s, sys: 155 ms, total: 14.4 s\n",
      "Wall time: 2.16 s\n"
     ]
    }
   ],
   "source": [
    "%%time\n",
    "\n",
    "\n",
    "        \n",
    "\n",
    "bst_cv2 = xgb.cv(xgb_params, dtrain, num_boost_round=50, nfold=5, seed=2020)\n",
    "#- num_boost_round： 一个整数，表示boosting 迭代数量   i.e. 树的个数\n",
    "print ('CV score_train:', bst_cv2.iloc[-1,:]['train-rmse-mean'])\n",
    "print ('CV score_test:', bst_cv2.iloc[-1,:]['test-rmse-mean'])"
   ]
  },
  {
   "cell_type": "code",
   "execution_count": 143,
   "metadata": {
    "scrolled": true
   },
   "outputs": [
    {
     "data": {
      "text/plain": [
       "Text(0.5, 0, 'number of rounds')"
      ]
     },
     "execution_count": 143,
     "metadata": {},
     "output_type": "execute_result"
    },
    {
     "data": {
      "image/png": "[encoded data removed]",
      "text/plain": [
       "<Figure size 432x288 with 1 Axes>"
      ]
     },
     "metadata": {
      "needs_background": "light"
     },
     "output_type": "display_data"
    }
   ],
   "source": [
    "plt.figure()\n",
    "plt.plot(bst_cv2['train-rmse-mean'],color = 'blue',label=\"train-rmse-mean\")\n",
    "plt.plot(bst_cv2['test-rmse-mean'],label=\"test-rmse-mean\")\n",
    "plt.legend()\n",
    "plt.xlabel('number of rounds')\n",
    "#here the train or test are the kfold's train and test"
   ]
  },
  {
   "cell_type": "code",
   "execution_count": 144,
   "metadata": {
    "scrolled": true
   },
   "outputs": [
    {
     "name": "stdout",
     "output_type": "stream",
     "text": [
      "CV score_train: 0.1322224\n",
      "CV score_test: 0.155998\n",
      "CV score_difference: 0.023775600000000008\n",
      "CPU times: user 5.43 s, sys: 35.1 ms, total: 5.47 s\n",
      "Wall time: 767 ms\n"
     ]
    }
   ],
   "source": [
    "%%time\n",
    "\n",
    "\n",
    "        \n",
    "\n",
    "bst_cv3 = xgb.cv(xgb_params, dtrain, num_boost_round=20, nfold=5, seed=2020)\n",
    "#- num_boost_round： 一个整数，表示boosting 迭代数量   i.e. 树的个数\n",
    "print ('CV score_train:', bst_cv3.iloc[-1,:]['train-rmse-mean'])\n",
    "print ('CV score_test:', bst_cv3.iloc[-1,:]['test-rmse-mean'])\n",
    "print ('CV score_difference:', abs(bst_cv3.iloc[-1,:]['test-rmse-mean']-bst_cv3.iloc[-1,:]['train-rmse-mean']) )"
   ]
  },
  {
   "cell_type": "code",
   "execution_count": 145,
   "metadata": {
    "scrolled": false
   },
   "outputs": [
    {
     "data": {
      "image/png": "[encoded data removed]",
      "text/plain": [
       "<Figure size 432x288 with 1 Axes>"
      ]
     },
     "metadata": {
      "needs_background": "light"
     },
     "output_type": "display_data"
    }
   ],
   "source": [
    "plt.figure()\n",
    "plt.plot(bst_cv3['train-rmse-mean'],color = 'blue',label=\"train-rmse-mean\")\n",
    "plt.plot(bst_cv3['test-rmse-mean'],label=\"test-rmse-mean\")\n",
    "plt.legend()\n",
    "plt.xlabel('number of rounds')\n",
    "plt.savefig('.png')\n",
    "#here the train or test are the kfold's train and test"
   ]
  },
  {
   "cell_type": "code",
   "execution_count": 146,
   "metadata": {},
   "outputs": [
    {
     "name": "stdout",
     "output_type": "stream",
     "text": [
      "CV score_train: 0.0735908\n",
      "CV score_test: 0.12866\n",
      "CV score_difference: 0.0550692\n",
      "CPU times: user 30.3 s, sys: 294 ms, total: 30.6 s\n",
      "Wall time: 4.51 s\n"
     ]
    }
   ],
   "source": [
    "%%time\n",
    "\n",
    "\n",
    "        \n",
    "\n",
    "bst_cv3 = xgb.cv(xgb_params, dtrain, num_boost_round=100, nfold=5, seed=2020)\n",
    "#- num_boost_round： 一个整数，表示boosting 迭代数量   i.e. 树的个数\n",
    "print ('CV score_train:', bst_cv3.iloc[-1,:]['train-rmse-mean'])\n",
    "print ('CV score_test:', bst_cv3.iloc[-1,:]['test-rmse-mean'])\n",
    "print ('CV score_difference:', abs(bst_cv3.iloc[-1,:]['test-rmse-mean']-bst_cv3.iloc[-1,:]['train-rmse-mean']) )"
   ]
  },
  {
   "cell_type": "code",
   "execution_count": 147,
   "metadata": {},
   "outputs": [
    {
     "data": {
      "image/png": "[encoded data removed]",
      "text/plain": [
       "<Figure size 432x288 with 1 Axes>"
      ]
     },
     "metadata": {
      "needs_background": "light"
     },
     "output_type": "display_data"
    }
   ],
   "source": [
    "plt.figure()\n",
    "plt.plot(bst_cv3['train-rmse-mean'],color = 'green',label=\"train-rmse-mean\")\n",
    "plt.plot(bst_cv3['test-rmse-mean'],color = '#054E9F',label=\"test-rmse-mean\")\n",
    "plt.legend()\n",
    "plt.xlabel('number of rounds')\n",
    "plt.title('number of rounds, RMSE')\n",
    "plt.savefig('number of rounds.png')\n",
    "#here the train or test are the kfold's train and test"
   ]
  },
  {
   "cell_type": "markdown",
   "metadata": {},
   "source": [
    "num_boost_round  = 20"
   ]
  },
  {
   "cell_type": "markdown",
   "metadata": {},
   "source": [
    "## class"
   ]
  },
  {
   "cell_type": "code",
   "execution_count": 148,
   "metadata": {},
   "outputs": [],
   "source": [
    "class XGBoostRegressor():\n",
    "    # __init__ double underscore\n",
    "    def __init__(self, **kwargs):\n",
    "        self.params = kwargs\n",
    "        #kwargs represents as a dictionary \n",
    "        if 'num_boost_round' in self.params:\n",
    "            self.num_boost_round = self.params['num_boost_round']\n",
    "        self.params.update({'silent': 1, 'objective': 'reg:linear', 'seed':2020})\n",
    "    \n",
    "    def fit(self, xtrain, ytrain):\n",
    "        dtrain = xgb.DMatrix(xtrain,ytrain)\n",
    "        self.model = xgb.train(params=self.params,dtrain=dtrain,num_boost_round=self.num_boost_round)\n",
    "    \n",
    "    def predict(self,x_pred):\n",
    "        dpred = xgb.DMatrix(x_pred)\n",
    "        return self.model.predict(dpred)\n",
    "    \n",
    "    def kfold(self, xtrain, ytrain, nfold=5):\n",
    "        dtrain = xgb.DMatrix(xtrain,ytrain)\n",
    "        cv_rounds = xgb.cv(self.params,dtrain=dtrain, num_boost_round=self.num_boost_round, seed=2020)\n",
    "        return cv_rounds.iloc[-1,:]\n",
    "    \n",
    "    def plot_feature_importance(self,max_num_features=5):\n",
    "        fig, ax1 = plt.subplots(figsize=(16,25))\n",
    "        xgb.plot_importance(self.model, height=0.2,ax=ax1, xlim=None, ylim=None,\n",
    "       title='Feature importance', xlabel='F score', ylabel='Features',\n",
    "       importance_type='weight', max_num_features=max_num_features, grid=True, \n",
    "       show_values=True)\n",
    "        \n",
    "    def get_params(self,deep=False):\n",
    "        return self.params\n",
    "    \n",
    "    def set_params(self, **params):\n",
    "        self.params.update(params)\n",
    "        return self\n"
   ]
  },
  {
   "cell_type": "code",
   "execution_count": 149,
   "metadata": {},
   "outputs": [
    {
     "data": {
      "text/plain": [
       "train-rmse-mean    0.130016\n",
       "train-rmse-std     0.000432\n",
       "test-rmse-mean     0.157160\n",
       "test-rmse-std      0.001013\n",
       "Name: 19, dtype: float64"
      ]
     },
     "execution_count": 149,
     "metadata": {},
     "output_type": "execute_result"
    }
   ],
   "source": [
    "bst = XGBoostRegressor(num_boost_round=20)\n",
    "bst.kfold(X_train, y_train, nfold=5)"
   ]
  },
  {
   "cell_type": "code",
   "execution_count": 150,
   "metadata": {},
   "outputs": [],
   "source": [
    "bst.fit(X_train, y_train)"
   ]
  },
  {
   "cell_type": "code",
   "execution_count": 151,
   "metadata": {},
   "outputs": [
    {
     "data": {
      "image/png": "[encoded data removed]",
      "text/plain": [
       "<Figure size 1152x1800 with 1 Axes>"
      ]
     },
     "metadata": {
      "needs_background": "light"
     },
     "output_type": "display_data"
    }
   ],
   "source": [
    "bst.plot_feature_importance(max_num_features=None)"
   ]
  },
  {
   "cell_type": "markdown",
   "metadata": {},
   "source": [
    "## the depth and weight (树的complexity) - 10, 5"
   ]
  },
  {
   "cell_type": "code",
   "execution_count": 167,
   "metadata": {},
   "outputs": [
    {
     "data": {
      "text/plain": [
       "[4, 5, 6, 7, 8, 9, 10, 11]"
      ]
     },
     "execution_count": 167,
     "metadata": {},
     "output_type": "execute_result"
    }
   ],
   "source": [
    "xgb_param_grid = {'max_depth': list(range(4,12)), 'min_child_weight': list((1,2,3,4,5,6))}\n",
    "xgb_param_grid['max_depth']"
   ]
  },
  {
   "cell_type": "code",
   "execution_count": 168,
   "metadata": {},
   "outputs": [],
   "source": [
    "from sklearn.metrics import make_scorer\n",
    "RMSE_scorer = make_scorer(RMSE, greater_is_better=False)"
   ]
  },
  {
   "cell_type": "code",
   "execution_count": 169,
   "metadata": {},
   "outputs": [
    {
     "name": "stdout",
     "output_type": "stream",
     "text": [
      "CPU times: user 5min 50s, sys: 1.91 s, total: 5min 52s\n",
      "Wall time: 47.1 s\n"
     ]
    },
    {
     "data": {
      "text/plain": [
       "GridSearchCV(cv=5, error_score=nan,\n",
       "             estimator=<__main__.XGBoostRegressor object at 0x1a2f2c3090>,\n",
       "             iid='deprecated', n_jobs=None,\n",
       "             param_grid={'max_depth': [4, 5, 6, 7, 8, 9, 10, 11],\n",
       "                         'min_child_weight': [1, 2, 3, 4, 5, 6]},\n",
       "             pre_dispatch='2*n_jobs', refit=True, return_train_score=False,\n",
       "             scoring=make_scorer(RMSE, greater_is_better=False), verbose=0)"
      ]
     },
     "execution_count": 169,
     "metadata": {},
     "output_type": "execute_result"
    }
   ],
   "source": [
    "%%time\n",
    " \n",
    "grid = GridSearchCV(XGBoostRegressor(num_boost_round=20),\n",
    "                    param_grid=xgb_param_grid, cv=5,scoring=RMSE_scorer)\n",
    "\n",
    "grid.fit(X_train.values, y_train.values)\n"
   ]
  },
  {
   "cell_type": "code",
   "execution_count": 170,
   "metadata": {},
   "outputs": [
    {
     "name": "stdout",
     "output_type": "stream",
     "text": [
      "{'max_depth': 10, 'min_child_weight': 5} -0.13010451768802536\n"
     ]
    }
   ],
   "source": [
    "print(grid.best_params_, grid.best_score_)"
   ]
  },
  {
   "cell_type": "code",
   "execution_count": 171,
   "metadata": {},
   "outputs": [
    {
     "data": {
      "text/plain": [
       "train-rmse-mean    0.057571\n",
       "train-rmse-std     0.001241\n",
       "test-rmse-mean     0.136825\n",
       "test-rmse-std      0.001655\n",
       "Name: 19, dtype: float64"
      ]
     },
     "execution_count": 171,
     "metadata": {},
     "output_type": "execute_result"
    }
   ],
   "source": [
    "bst = XGBoostRegressor(num_boost_round=20, max_depth=10, min_child_weight=5)\n",
    "bst.kfold(X_train, y_train, nfold=5)"
   ]
  },
  {
   "cell_type": "code",
   "execution_count": 172,
   "metadata": {},
   "outputs": [],
   "source": [
    "scores = abs(grid.cv_results_['mean_test_score'])\n",
    "scores = scores.reshape(8,6)"
   ]
  },
  {
   "cell_type": "code",
   "execution_count": 177,
   "metadata": {},
   "outputs": [
    {
     "data": {
      "image/png": "[encoded data removed]",
      "text/plain": [
       "<Figure size 720x360 with 2 Axes>"
      ]
     },
     "metadata": {
      "needs_background": "light"
     },
     "output_type": "display_data"
    }
   ],
   "source": [
    "plt.figure(figsize=(10,5))\n",
    "cp = plt.contourf(xgb_param_grid['min_child_weight'], xgb_param_grid['max_depth'], scores, cmap='RdBu_r')\n",
    "plt.colorbar(cp)\n",
    "plt.title('Depth / min_child_weight optimization')\n",
    "plt.annotate('We use this', xy=(5, 10), xytext=(4, 8.5), arrowprops=dict(facecolor='white'), color='white')\n",
    "plt.annotate('better for depth=8.5', xy=(3, 8.5), \n",
    "             xytext=(3.5, 7.5), arrowprops=dict(facecolor='white'), color='white')\n",
    "plt.xlabel('min_child_weight')\n",
    "plt.ylabel('max_depth')\n",
    "plt.grid(True)\n",
    "plt.show()"
   ]
  },
  {
   "cell_type": "markdown",
   "metadata": {},
   "source": [
    "## tune gamma to reduce the risk of overfitting - 0"
   ]
  },
  {
   "cell_type": "code",
   "execution_count": 207,
   "metadata": {},
   "outputs": [
    {
     "name": "stdout",
     "output_type": "stream",
     "text": [
      "CPU times: user 56.4 s, sys: 402 ms, total: 56.8 s\n",
      "Wall time: 7.56 s\n"
     ]
    },
    {
     "data": {
      "text/plain": [
       "GridSearchCV(cv=5, error_score=nan,\n",
       "             estimator=<__main__.XGBoostRegressor object at 0x1a37a673d0>,\n",
       "             iid='deprecated', n_jobs=None,\n",
       "             param_grid={'gamma': [0.0, 0.1, 0.2, 0.30000000000000004, 0.4,\n",
       "                                   0.5]},\n",
       "             pre_dispatch='2*n_jobs', refit=True, return_train_score=False,\n",
       "             scoring=make_scorer(RMSE, greater_is_better=False), verbose=0)"
      ]
     },
     "execution_count": 207,
     "metadata": {},
     "output_type": "execute_result"
    }
   ],
   "source": [
    "%%time\n",
    "\n",
    "xgb_param_grid = {'gamma':[ 0.1 * i for i in range(0,6)]}\n",
    "\n",
    "grid = GridSearchCV(XGBoostRegressor(num_boost_round=20, max_depth=10, min_child_weight=5),\n",
    "                    param_grid=xgb_param_grid, cv=5, scoring=RMSE_scorer)\n",
    "\n",
    "grid.fit(X_train, y_train.values)"
   ]
  },
  {
   "cell_type": "code",
   "execution_count": 208,
   "metadata": {},
   "outputs": [
    {
     "data": {
      "text/plain": [
       "({'gamma': 0.0}, -0.13010451768802536)"
      ]
     },
     "execution_count": 208,
     "metadata": {},
     "output_type": "execute_result"
    }
   ],
   "source": [
    "grid.best_params_,grid.best_score_"
   ]
  },
  {
   "cell_type": "code",
   "execution_count": 209,
   "metadata": {},
   "outputs": [
    {
     "data": {
      "text/plain": [
       "array([-0.13010452, -0.13576848, -0.14045094, -0.14586007, -0.14840336,\n",
       "       -0.15257266])"
      ]
     },
     "execution_count": 209,
     "metadata": {},
     "output_type": "execute_result"
    }
   ],
   "source": [
    "grid.cv_results_['mean_test_score']"
   ]
  },
  {
   "cell_type": "markdown",
   "metadata": {},
   "source": [
    "## tune the subsample and colsample_bytree -1,1"
   ]
  },
  {
   "cell_type": "code",
   "execution_count": 214,
   "metadata": {},
   "outputs": [
    {
     "name": "stdout",
     "output_type": "stream",
     "text": [
      "CPU times: user 34.1 s, sys: 172 ms, total: 34.3 s\n",
      "Wall time: 4.42 s\n"
     ]
    },
    {
     "data": {
      "text/plain": [
       "GridSearchCV(cv=5, error_score=nan,\n",
       "             estimator=<__main__.XGBoostRegressor object at 0x1a342a4610>,\n",
       "             iid='deprecated', n_jobs=None,\n",
       "             param_grid={'colsample_bytree': [0.9, 1.0],\n",
       "                         'subsample': [0.9, 1.0]},\n",
       "             pre_dispatch='2*n_jobs', refit=True, return_train_score=False,\n",
       "             scoring=make_scorer(RMSE, greater_is_better=False), verbose=0)"
      ]
     },
     "execution_count": 214,
     "metadata": {},
     "output_type": "execute_result"
    }
   ],
   "source": [
    "%%time\n",
    "\n",
    "xgb_param_grid = {'subsample':[ 0.1 * i for i in range(9,11)],\n",
    "                 'colsample_bytree':[ 0.1 * i for i in range(9,11)]}\n",
    "\n",
    "grid = GridSearchCV(XGBoostRegressor(num_boost_round=20, max_depth=10, min_child_weight=5,\n",
    "                                        gamma = 0),\n",
    "                    param_grid=xgb_param_grid, cv=5, scoring=RMSE_scorer)\n",
    "\n",
    "grid.fit(X_train, y_train)"
   ]
  },
  {
   "cell_type": "code",
   "execution_count": 215,
   "metadata": {},
   "outputs": [
    {
     "data": {
      "text/plain": [
       "({'colsample_bytree': 1.0, 'subsample': 1.0}, -0.13010451768802536)"
      ]
     },
     "execution_count": 215,
     "metadata": {},
     "output_type": "execute_result"
    }
   ],
   "source": [
    "grid.best_params_,grid.best_score_"
   ]
  },
  {
   "cell_type": "markdown",
   "metadata": {},
   "source": [
    "## learning rate and number of rounds"
   ]
  },
  {
   "cell_type": "code",
   "execution_count": 216,
   "metadata": {},
   "outputs": [
    {
     "name": "stdout",
     "output_type": "stream",
     "text": [
      "CPU times: user 1min 32s, sys: 1.01 s, total: 1min 33s\n",
      "Wall time: 13 s\n"
     ]
    },
    {
     "data": {
      "text/plain": [
       "GridSearchCV(cv=5, error_score=nan,\n",
       "             estimator=<__main__.XGBoostRegressor object at 0x1a37716e90>,\n",
       "             iid='deprecated', n_jobs=None,\n",
       "             param_grid={'eta': [0.5, 0.4, 0.3, 0.2, 0.1, 0.075, 0.05, 0.04,\n",
       "                                 0.03]},\n",
       "             pre_dispatch='2*n_jobs', refit=True, return_train_score=False,\n",
       "             scoring=make_scorer(RMSE, greater_is_better=False), verbose=0)"
      ]
     },
     "execution_count": 216,
     "metadata": {},
     "output_type": "execute_result"
    }
   ],
   "source": [
    "%%time\n",
    "    \n",
    "xgb_param_grid = {'eta':[0.5,0.4,0.3,0.2,0.1,0.075,0.05,0.04,0.03]}\n",
    "grid = GridSearchCV(XGBoostRegressor(num_boost_round=20, gamma=0, max_depth=10, min_child_weight=5),\n",
    "                    param_grid=xgb_param_grid, cv=5, scoring=RMSE_scorer)\n",
    "\n",
    "grid.fit(X_train, y_train)"
   ]
  },
  {
   "cell_type": "code",
   "execution_count": 217,
   "metadata": {},
   "outputs": [
    {
     "data": {
      "text/plain": [
       "({'eta': 0.3}, -0.13010451768802536)"
      ]
     },
     "execution_count": 217,
     "metadata": {},
     "output_type": "execute_result"
    }
   ],
   "source": [
    "grid.best_params_,grid.best_score_"
   ]
  },
  {
   "cell_type": "code",
   "execution_count": 218,
   "metadata": {},
   "outputs": [
    {
     "data": {
      "text/plain": [
       "array([0.5  , 0.4  , 0.3  , 0.2  , 0.1  , 0.075, 0.05 , 0.04 , 0.03 ])"
      ]
     },
     "execution_count": 218,
     "metadata": {},
     "output_type": "execute_result"
    }
   ],
   "source": [
    "eta = grid.cv_results_['param_eta']\n",
    "eta = np.array(eta)\n",
    "eta = eta.astype(np.float64)\n",
    "eta "
   ]
  },
  {
   "cell_type": "code",
   "execution_count": 219,
   "metadata": {},
   "outputs": [
    {
     "data": {
      "image/png": "[encoded data removed]",
      "text/plain": [
       "<Figure size 720x288 with 1 Axes>"
      ]
     },
     "metadata": {
      "needs_background": "light"
     },
     "output_type": "display_data"
    }
   ],
   "source": [
    "y = grid.cv_results_['mean_test_score']\n",
    "plt.figure(figsize=(10,4))\n",
    "plt.title('RMSE, ETA & 20 trees')\n",
    "plt.xlabel('eta')\n",
    "plt.ylabel('score')\n",
    "plt.plot(eta, -y)\n",
    "plt.grid(True)\n",
    "plt.show()"
   ]
  },
  {
   "cell_type": "code",
   "execution_count": 244,
   "metadata": {
    "scrolled": false
   },
   "outputs": [
    {
     "name": "stdout",
     "output_type": "stream",
     "text": [
      "CPU times: user 4min 31s, sys: 2.33 s, total: 4min 34s\n",
      "Wall time: 38 s\n"
     ]
    },
    {
     "data": {
      "text/plain": [
       "GridSearchCV(cv=5, error_score=nan,\n",
       "             estimator=<__main__.XGBoostRegressor object at 0x1a3169af10>,\n",
       "             iid='deprecated', n_jobs=None,\n",
       "             param_grid={'eta': [0.5, 0.4, 0.3, 0.2, 0.1, 0.075, 0.05, 0.04,\n",
       "                                 0.03]},\n",
       "             pre_dispatch='2*n_jobs', refit=True, return_train_score=False,\n",
       "             scoring=make_scorer(RMSE, greater_is_better=False), verbose=0)"
      ]
     },
     "execution_count": 244,
     "metadata": {},
     "output_type": "execute_result"
    }
   ],
   "source": [
    "%%time \n",
    "\n",
    "xgb_param_grid = {'eta':[0.5,0.4,0.3,0.2,0.1,0.075,0.05,0.04,0.03]}\n",
    "grid = GridSearchCV(XGBoostRegressor(num_boost_round=60, gamma=0, max_depth=10, min_child_weight=5),\n",
    "                    param_grid=xgb_param_grid, cv=5, scoring=RMSE_scorer)\n",
    "\n",
    "grid.fit(X_train, y_train) "
   ]
  },
  {
   "cell_type": "code",
   "execution_count": 245,
   "metadata": {
    "scrolled": true
   },
   "outputs": [
    {
     "data": {
      "text/plain": [
       "({'eta': 0.2}, -0.12491506773753858)"
      ]
     },
     "execution_count": 245,
     "metadata": {},
     "output_type": "execute_result"
    }
   ],
   "source": [
    "grid.best_params_, grid.best_score_"
   ]
  },
  {
   "cell_type": "code",
   "execution_count": 246,
   "metadata": {},
   "outputs": [
    {
     "data": {
      "text/plain": [
       "array([0.5  , 0.4  , 0.3  , 0.2  , 0.1  , 0.075, 0.05 , 0.04 , 0.03 ])"
      ]
     },
     "execution_count": 246,
     "metadata": {},
     "output_type": "execute_result"
    }
   ],
   "source": [
    "eta = grid.cv_results_['param_eta']\n",
    "eta = np.array(eta)\n",
    "eta = eta.astype(np.float64)\n",
    "eta "
   ]
  },
  {
   "cell_type": "code",
   "execution_count": 247,
   "metadata": {
    "scrolled": true
   },
   "outputs": [
    {
     "data": {
      "image/png": "[encoded data removed]",
      "text/plain": [
       "<Figure size 720x288 with 1 Axes>"
      ]
     },
     "metadata": {
      "needs_background": "light"
     },
     "output_type": "display_data"
    }
   ],
   "source": [
    "y = grid.cv_results_['mean_test_score']\n",
    "plt.figure(figsize=(10,4))\n",
    "plt.title('MAE and ETA, 60 trees')\n",
    "plt.xlabel('eta')\n",
    "plt.ylabel('score')\n",
    "plt.plot(eta, -y)\n",
    "plt.grid(True)\n",
    "plt.show()"
   ]
  },
  {
   "cell_type": "code",
   "execution_count": 248,
   "metadata": {},
   "outputs": [
    {
     "name": "stdout",
     "output_type": "stream",
     "text": [
      "CPU times: user 7min 23s, sys: 2.97 s, total: 7min 26s\n",
      "Wall time: 1min\n"
     ]
    },
    {
     "data": {
      "text/plain": [
       "GridSearchCV(cv=5, error_score=nan,\n",
       "             estimator=<__main__.XGBoostRegressor object at 0x1a317c4590>,\n",
       "             iid='deprecated', n_jobs=None,\n",
       "             param_grid={'eta': [0.5, 0.4, 0.3, 0.2, 0.1, 0.075, 0.05, 0.04,\n",
       "                                 0.03]},\n",
       "             pre_dispatch='2*n_jobs', refit=True, return_train_score=False,\n",
       "             scoring=make_scorer(RMSE, greater_is_better=False), verbose=0)"
      ]
     },
     "execution_count": 248,
     "metadata": {},
     "output_type": "execute_result"
    }
   ],
   "source": [
    "%%time \n",
    "\n",
    "xgb_param_grid = {'eta':[0.5,0.4,0.3,0.2,0.1,0.075,0.05,0.04,0.03]}\n",
    "grid = GridSearchCV(XGBoostRegressor(num_boost_round=100, gamma=0, max_depth=10, min_child_weight=5),\n",
    "                    param_grid=xgb_param_grid, cv=5, scoring=RMSE_scorer)\n",
    "\n",
    "grid.fit(X_train, y_train) "
   ]
  },
  {
   "cell_type": "code",
   "execution_count": 249,
   "metadata": {},
   "outputs": [
    {
     "data": {
      "text/plain": [
       "({'eta': 0.1}, -0.12241722594839324)"
      ]
     },
     "execution_count": 249,
     "metadata": {},
     "output_type": "execute_result"
    }
   ],
   "source": [
    "grid.best_params_, grid.best_score_"
   ]
  },
  {
   "cell_type": "code",
   "execution_count": 250,
   "metadata": {},
   "outputs": [
    {
     "data": {
      "text/plain": [
       "array([0.5  , 0.4  , 0.3  , 0.2  , 0.1  , 0.075, 0.05 , 0.04 , 0.03 ])"
      ]
     },
     "execution_count": 250,
     "metadata": {},
     "output_type": "execute_result"
    }
   ],
   "source": [
    "eta = grid.cv_results_['param_eta']\n",
    "eta = np.array(eta)\n",
    "eta = eta.astype(np.float64)\n",
    "eta "
   ]
  },
  {
   "cell_type": "code",
   "execution_count": 251,
   "metadata": {},
   "outputs": [
    {
     "data": {
      "image/png": "[encoded data removed]",
      "text/plain": [
       "<Figure size 720x288 with 1 Axes>"
      ]
     },
     "metadata": {
      "needs_background": "light"
     },
     "output_type": "display_data"
    }
   ],
   "source": [
    "y = grid.cv_results_['mean_test_score']\n",
    "plt.figure(figsize=(10,4))\n",
    "plt.title('RMSE and ETA, 100 trees')\n",
    "plt.xlabel('eta')\n",
    "plt.ylabel('score')\n",
    "plt.plot(eta, -y)\n",
    "plt.grid(True)\n",
    "plt.show()"
   ]
  },
  {
   "cell_type": "code",
   "execution_count": 252,
   "metadata": {},
   "outputs": [
    {
     "name": "stdout",
     "output_type": "stream",
     "text": [
      "CPU times: user 6min 35s, sys: 2.36 s, total: 6min 38s\n",
      "Wall time: 52.7 s\n"
     ]
    },
    {
     "data": {
      "text/plain": [
       "GridSearchCV(cv=5, error_score=nan,\n",
       "             estimator=<__main__.XGBoostRegressor object at 0x1a30d68910>,\n",
       "             iid='deprecated', n_jobs=None,\n",
       "             param_grid={'eta': [0.03, 0.04, 0.05, 0.06, 0.07, 0.08, 0.09,\n",
       "                                 0.1]},\n",
       "             pre_dispatch='2*n_jobs', refit=True, return_train_score=False,\n",
       "             scoring=make_scorer(RMSE, greater_is_better=False), verbose=0)"
      ]
     },
     "execution_count": 252,
     "metadata": {},
     "output_type": "execute_result"
    }
   ],
   "source": [
    "%%time \n",
    "\n",
    "xgb_param_grid = {'eta':[0.03,0.04,0.05,0.06,0.07,0.08,0.09,0.1]}\n",
    "grid = GridSearchCV(XGBoostRegressor(num_boost_round=100, gamma=0, max_depth=10, min_child_weight=5),\n",
    "                    param_grid=xgb_param_grid, cv=5, scoring=RMSE_scorer)\n",
    "\n",
    "grid.fit(X_train, y_train) "
   ]
  },
  {
   "cell_type": "code",
   "execution_count": 253,
   "metadata": {},
   "outputs": [
    {
     "data": {
      "text/plain": [
       "({'eta': 0.09}, -0.12222681782608769)"
      ]
     },
     "execution_count": 253,
     "metadata": {},
     "output_type": "execute_result"
    }
   ],
   "source": [
    "grid.best_params_, grid.best_score_"
   ]
  },
  {
   "cell_type": "code",
   "execution_count": 254,
   "metadata": {},
   "outputs": [
    {
     "data": {
      "image/png": "[encoded data removed]",
      "text/plain": [
       "<Figure size 720x288 with 1 Axes>"
      ]
     },
     "metadata": {
      "needs_background": "light"
     },
     "output_type": "display_data"
    }
   ],
   "source": [
    "eta = grid.cv_results_['param_eta']\n",
    "eta = np.array(eta)\n",
    "eta = eta.astype(np.float64)\n",
    "y = grid.cv_results_['mean_test_score']\n",
    "plt.figure(figsize=(10,4))\n",
    "plt.title('RMSE and ETA, 100 trees') \n",
    "plt.xlabel('eta')\n",
    "plt.ylabel('score')\n",
    "plt.plot(eta, -y)\n",
    "plt.grid(True)\n",
    "plt.show()"
   ]
  },
  {
   "cell_type": "markdown",
   "metadata": {},
   "source": [
    "### test different num_boost_round|"
   ]
  },
  {
   "cell_type": "code",
   "execution_count": 190,
   "metadata": {},
   "outputs": [
    {
     "name": "stdout",
     "output_type": "stream",
     "text": [
      "CPU times: user 9min 18s, sys: 1.96 s, total: 9min 20s\n",
      "Wall time: 1min 12s\n"
     ]
    },
    {
     "data": {
      "text/plain": [
       "GridSearchCV(cv=5, error_score=nan,\n",
       "             estimator=<__main__.XGBoostRegressor object at 0x1a2dee7dd0>,\n",
       "             iid='deprecated', n_jobs=None,\n",
       "             param_grid={'eta': [0.1, 0.09, 0.08, 0.075, 0.07, 0.065, 0.06,\n",
       "                                 0.055]},\n",
       "             pre_dispatch='2*n_jobs', refit=True, return_train_score=False,\n",
       "             scoring=make_scorer(RMSE, greater_is_better=False), verbose=0)"
      ]
     },
     "execution_count": 190,
     "metadata": {},
     "output_type": "execute_result"
    }
   ],
   "source": [
    "%%time \n",
    "\n",
    "xgb_param_grid = {'eta':[0.1,0.09,0.08,0.075,0.07,0.065,0.06,0.055]}\n",
    "grid = GridSearchCV(XGBoostRegressor(num_boost_round=150, gamma=0, max_depth=10, min_child_weight=5),\n",
    "                    param_grid=xgb_param_grid, cv=5, scoring=RMSE_scorer)\n",
    "\n",
    "grid.fit(X_train, y_train) "
   ]
  },
  {
   "cell_type": "code",
   "execution_count": 191,
   "metadata": {},
   "outputs": [
    {
     "data": {
      "text/plain": [
       "({'eta': 0.09}, -0.12066961413879362)"
      ]
     },
     "execution_count": 191,
     "metadata": {},
     "output_type": "execute_result"
    }
   ],
   "source": [
    "grid.best_params_, grid.best_score_"
   ]
  },
  {
   "cell_type": "code",
   "execution_count": 192,
   "metadata": {},
   "outputs": [
    {
     "data": {
      "text/plain": [
       "array([0.1  , 0.09 , 0.08 , 0.075, 0.07 , 0.065, 0.06 , 0.055])"
      ]
     },
     "execution_count": 192,
     "metadata": {},
     "output_type": "execute_result"
    }
   ],
   "source": [
    "eta = grid.cv_results_['param_eta']\n",
    "eta = np.array(eta)\n",
    "eta = eta.astype(np.float64)\n",
    "eta "
   ]
  },
  {
   "cell_type": "code",
   "execution_count": 193,
   "metadata": {},
   "outputs": [
    {
     "data": {
      "image/png": "[encoded data removed]",
      "text/plain": [
       "<Figure size 720x288 with 1 Axes>"
      ]
     },
     "metadata": {
      "needs_background": "light"
     },
     "output_type": "display_data"
    }
   ],
   "source": [
    "y = grid.cv_results_['mean_test_score']\n",
    "plt.figure(figsize=(10,4))\n",
    "plt.title('MAE and ETA, 150 trees')\n",
    "plt.xlabel('eta')\n",
    "plt.ylabel('score')\n",
    "plt.plot(eta, -y)\n",
    "plt.grid(True)\n",
    "plt.show()"
   ]
  },
  {
   "cell_type": "markdown",
   "metadata": {},
   "source": [
    "# model"
   ]
  },
  {
   "cell_type": "code",
   "execution_count": 208,
   "metadata": {},
   "outputs": [
    {
     "data": {
      "text/plain": [
       "train-rmse-mean    0.044283\n",
       "train-rmse-std     0.000674\n",
       "test-rmse-mean     0.126670\n",
       "test-rmse-std      0.000897\n",
       "Name: 99, dtype: float64"
      ]
     },
     "execution_count": 208,
     "metadata": {},
     "output_type": "execute_result"
    }
   ],
   "source": [
    "TrainModel=XGBoostRegressor(num_boost_round=100, gamma=0, max_depth=10, min_child_weight=5, cv=5,eta=0.09)\n",
    "TrainModel.kfold(X_train, y_train, nfold=5) "
   ]
  },
  {
   "cell_type": "code",
   "execution_count": 209,
   "metadata": {},
   "outputs": [
    {
     "data": {
      "text/plain": [
       "array([2.3955293 , 0.84180796, 1.4630561 , ..., 1.612867  , 1.4095157 ,\n",
       "       1.4563055 ], dtype=float32)"
      ]
     },
     "execution_count": 209,
     "metadata": {},
     "output_type": "execute_result"
    }
   ],
   "source": [
    "TrainModel.fit(X_train,y_train)\n",
    "TrainModel.predict(X_test)"
   ]
  },
  {
   "cell_type": "code",
   "execution_count": 210,
   "metadata": {},
   "outputs": [
    {
     "data": {
      "text/plain": [
       "0.11779775641277462"
      ]
     },
     "execution_count": 210,
     "metadata": {},
     "output_type": "execute_result"
    }
   ],
   "source": [
    "RMSE(y_test,TrainModel.predict(X_test))"
   ]
  },
  {
   "cell_type": "code",
   "execution_count": 211,
   "metadata": {},
   "outputs": [],
   "source": [
    "models = [] \n",
    "models.append(('XGB',XGBRegressor(objective ='reg:squarederror',\n",
    "                                  num_boost_round=100, gamma=0, max_depth=10, min_child_weight=5, cv=5,eta=0.09)))"
   ]
  },
  {
   "cell_type": "code",
   "execution_count": 212,
   "metadata": {},
   "outputs": [
    {
     "data": {
      "text/plain": [
       "[('XGB', XGBRegressor(base_score=0.5, booster='gbtree', colsample_bylevel=1,\n",
       "               colsample_bynode=1, colsample_bytree=1, cv=5, eta=0.09, gamma=0,\n",
       "               importance_type='gain', learning_rate=0.1, max_delta_step=0,\n",
       "               max_depth=10, min_child_weight=5, missing=None, n_estimators=100,\n",
       "               n_jobs=1, nthread=None, num_boost_round=100,\n",
       "               objective='reg:squarederror', random_state=0, reg_alpha=0,\n",
       "               reg_lambda=1, scale_pos_weight=1, seed=None, silent=None,\n",
       "               subsample=1, verbosity=1))]"
      ]
     },
     "execution_count": 212,
     "metadata": {},
     "output_type": "execute_result"
    }
   ],
   "source": [
    "models "
   ]
  },
  {
   "cell_type": "code",
   "execution_count": 213,
   "metadata": {},
   "outputs": [
    {
     "name": "stdout",
     "output_type": "stream",
     "text": [
      "[array([-0.11911826, -0.11325605, -0.12419973, -0.11863537, -0.12046035,\n",
      "       -0.11920651, -0.11751655, -0.11845687, -0.12474027, -0.12465232])]\n",
      "Model Name:XGB Model Score:0.1200 Model Std:0.0035\n"
     ]
    }
   ],
   "source": [
    "from sklearn.model_selection import cross_val_score\n",
    "results = [] \n",
    "names = []\n",
    "for name, model in models:\n",
    "    kfold = KFold(n_splits=10, random_state=2020) \n",
    "    cv_results = cross_val_score(model, X_train, y_train, cv=kfold, scoring=RMSE_scorer) \n",
    "    results.append(cv_results) \n",
    "    names.append(name) \n",
    "    print(results)\n",
    "    print(\"Model Name:{} Model Score:{:.4f} Model Std:{:.4f}\".format(name, cv_results.mean()*-1, cv_results.std()))"
   ]
  },
  {
   "cell_type": "code",
   "execution_count": 214,
   "metadata": {},
   "outputs": [
    {
     "data": {
      "text/plain": [
       "[array([0.11911826, 0.11325605, 0.12419973, 0.11863537, 0.12046035,\n",
       "        0.11920651, 0.11751655, 0.11845687, 0.12474027, 0.12465232])]"
      ]
     },
     "execution_count": 214,
     "metadata": {},
     "output_type": "execute_result"
    }
   ],
   "source": [
    "resultsabs = [x*-1 for x in results]\n",
    "resultsabs"
   ]
  },
  {
   "cell_type": "code",
   "execution_count": 215,
   "metadata": {},
   "outputs": [
    {
     "data": {
      "text/plain": [
       "array([[0.11911826],\n",
       "       [0.11325605],\n",
       "       [0.12419973],\n",
       "       [0.11863537],\n",
       "       [0.12046035],\n",
       "       [0.11920651],\n",
       "       [0.11751655],\n",
       "       [0.11845687],\n",
       "       [0.12474027],\n",
       "       [0.12465232]])"
      ]
     },
     "execution_count": 215,
     "metadata": {},
     "output_type": "execute_result"
    }
   ],
   "source": [
    "dfresultsabs = pd.DataFrame(resultsabs).values \n",
    "dfresultsabs = dfresultsabs.reshape(-1,1)\n",
    "dfresultsabs"
   ]
  },
  {
   "cell_type": "code",
   "execution_count": 216,
   "metadata": {},
   "outputs": [
    {
     "data": {
      "text/plain": [
       "Text(0, 0.5, 'Scores')"
      ]
     },
     "execution_count": 216,
     "metadata": {},
     "output_type": "execute_result"
    },
    {
     "data": {
      "image/png": "[encoded data removed]",
      "text/plain": [
       "<Figure size 720x504 with 1 Axes>"
      ]
     },
     "metadata": {
      "needs_background": "light"
     },
     "output_type": "display_data"
    }
   ],
   "source": [
    "f,ax = plt.subplots(figsize = (10,7))\n",
    "sns.boxplot(x=names, y=resultsabs,palette=\"viridis\");\n",
    "plt.title(\"Compare Model's Scores\",fontsize = 20,color='blue')\n",
    "plt.xlabel('Models',fontsize = 15,color='blue')\n",
    "plt.ylabel('Scores',fontsize = 15,color='blue')"
   ]
  },
  {
   "cell_type": "code",
   "execution_count": 199,
   "metadata": {},
   "outputs": [
    {
     "name": "stdout",
     "output_type": "stream",
     "text": [
      "(18249, 70)\n"
     ]
    },
    {
     "data": {
      "text/html": [
       "<div>\n",
       "<style scoped>\n",
       "    .dataframe tbody tr th:only-of-type {\n",
       "        vertical-align: middle;\n",
       "    }\n",
       "\n",
       "    .dataframe tbody tr th {\n",
       "        vertical-align: top;\n",
       "    }\n",
       "\n",
       "    .dataframe thead th {\n",
       "        text-align: right;\n",
       "    }\n",
       "</style>\n",
       "<table border=\"1\" class=\"dataframe\">\n",
       "  <thead>\n",
       "    <tr style=\"text-align: right;\">\n",
       "      <th></th>\n",
       "      <th>AveragePrice</th>\n",
       "      <th>Total Volume</th>\n",
       "      <th>4046</th>\n",
       "      <th>4225</th>\n",
       "      <th>4770</th>\n",
       "      <th>Total Bags</th>\n",
       "      <th>Small Bags</th>\n",
       "      <th>Large Bags</th>\n",
       "      <th>XLarge Bags</th>\n",
       "      <th>type</th>\n",
       "      <th>year</th>\n",
       "      <th>month</th>\n",
       "      <th>winter</th>\n",
       "      <th>spring</th>\n",
       "      <th>summer</th>\n",
       "      <th>autumn</th>\n",
       "      <th>region_Albany</th>\n",
       "      <th>region_Atlanta</th>\n",
       "      <th>region_BaltimoreWashington</th>\n",
       "      <th>region_Boise</th>\n",
       "      <th>region_Boston</th>\n",
       "      <th>region_BuffaloRochester</th>\n",
       "      <th>region_California</th>\n",
       "      <th>region_Charlotte</th>\n",
       "      <th>region_Chicago</th>\n",
       "      <th>region_CincinnatiDayton</th>\n",
       "      <th>region_Columbus</th>\n",
       "      <th>region_DallasFtWorth</th>\n",
       "      <th>region_Denver</th>\n",
       "      <th>region_Detroit</th>\n",
       "      <th>region_GrandRapids</th>\n",
       "      <th>region_GreatLakes</th>\n",
       "      <th>region_HarrisburgScranton</th>\n",
       "      <th>region_HartfordSpringfield</th>\n",
       "      <th>region_Houston</th>\n",
       "      <th>region_Indianapolis</th>\n",
       "      <th>region_Jacksonville</th>\n",
       "      <th>region_LasVegas</th>\n",
       "      <th>region_LosAngeles</th>\n",
       "      <th>region_Louisville</th>\n",
       "      <th>region_MiamiFtLauderdale</th>\n",
       "      <th>region_Midsouth</th>\n",
       "      <th>region_Nashville</th>\n",
       "      <th>region_NewOrleansMobile</th>\n",
       "      <th>region_NewYork</th>\n",
       "      <th>region_Northeast</th>\n",
       "      <th>region_NorthernNewEngland</th>\n",
       "      <th>region_Orlando</th>\n",
       "      <th>region_Philadelphia</th>\n",
       "      <th>region_PhoenixTucson</th>\n",
       "      <th>region_Pittsburgh</th>\n",
       "      <th>region_Plains</th>\n",
       "      <th>region_Portland</th>\n",
       "      <th>region_RaleighGreensboro</th>\n",
       "      <th>region_RichmondNorfolk</th>\n",
       "      <th>region_Roanoke</th>\n",
       "      <th>region_Sacramento</th>\n",
       "      <th>region_SanDiego</th>\n",
       "      <th>region_SanFrancisco</th>\n",
       "      <th>region_Seattle</th>\n",
       "      <th>region_SouthCarolina</th>\n",
       "      <th>region_SouthCentral</th>\n",
       "      <th>region_Southeast</th>\n",
       "      <th>region_Spokane</th>\n",
       "      <th>region_StLouis</th>\n",
       "      <th>region_Syracuse</th>\n",
       "      <th>region_Tampa</th>\n",
       "      <th>region_TotalUS</th>\n",
       "      <th>region_West</th>\n",
       "      <th>region_WestTexNewMexico</th>\n",
       "    </tr>\n",
       "  </thead>\n",
       "  <tbody>\n",
       "    <tr>\n",
       "      <th>0</th>\n",
       "      <td>1.33</td>\n",
       "      <td>64236.62</td>\n",
       "      <td>1036.74</td>\n",
       "      <td>54454.85</td>\n",
       "      <td>48.16</td>\n",
       "      <td>8696.87</td>\n",
       "      <td>8603.62</td>\n",
       "      <td>93.25</td>\n",
       "      <td>0.0</td>\n",
       "      <td>0</td>\n",
       "      <td>2015</td>\n",
       "      <td>12</td>\n",
       "      <td>1</td>\n",
       "      <td>0</td>\n",
       "      <td>0</td>\n",
       "      <td>0</td>\n",
       "      <td>1</td>\n",
       "      <td>0</td>\n",
       "      <td>0</td>\n",
       "      <td>0</td>\n",
       "      <td>0</td>\n",
       "      <td>0</td>\n",
       "      <td>0</td>\n",
       "      <td>0</td>\n",
       "      <td>0</td>\n",
       "      <td>0</td>\n",
       "      <td>0</td>\n",
       "      <td>0</td>\n",
       "      <td>0</td>\n",
       "      <td>0</td>\n",
       "      <td>0</td>\n",
       "      <td>0</td>\n",
       "      <td>0</td>\n",
       "      <td>0</td>\n",
       "      <td>0</td>\n",
       "      <td>0</td>\n",
       "      <td>0</td>\n",
       "      <td>0</td>\n",
       "      <td>0</td>\n",
       "      <td>0</td>\n",
       "      <td>0</td>\n",
       "      <td>0</td>\n",
       "      <td>0</td>\n",
       "      <td>0</td>\n",
       "      <td>0</td>\n",
       "      <td>0</td>\n",
       "      <td>0</td>\n",
       "      <td>0</td>\n",
       "      <td>0</td>\n",
       "      <td>0</td>\n",
       "      <td>0</td>\n",
       "      <td>0</td>\n",
       "      <td>0</td>\n",
       "      <td>0</td>\n",
       "      <td>0</td>\n",
       "      <td>0</td>\n",
       "      <td>0</td>\n",
       "      <td>0</td>\n",
       "      <td>0</td>\n",
       "      <td>0</td>\n",
       "      <td>0</td>\n",
       "      <td>0</td>\n",
       "      <td>0</td>\n",
       "      <td>0</td>\n",
       "      <td>0</td>\n",
       "      <td>0</td>\n",
       "      <td>0</td>\n",
       "      <td>0</td>\n",
       "      <td>0</td>\n",
       "      <td>0</td>\n",
       "    </tr>\n",
       "    <tr>\n",
       "      <th>1</th>\n",
       "      <td>1.35</td>\n",
       "      <td>54876.98</td>\n",
       "      <td>674.28</td>\n",
       "      <td>44638.81</td>\n",
       "      <td>58.33</td>\n",
       "      <td>9505.56</td>\n",
       "      <td>9408.07</td>\n",
       "      <td>97.49</td>\n",
       "      <td>0.0</td>\n",
       "      <td>0</td>\n",
       "      <td>2015</td>\n",
       "      <td>12</td>\n",
       "      <td>1</td>\n",
       "      <td>0</td>\n",
       "      <td>0</td>\n",
       "      <td>0</td>\n",
       "      <td>1</td>\n",
       "      <td>0</td>\n",
       "      <td>0</td>\n",
       "      <td>0</td>\n",
       "      <td>0</td>\n",
       "      <td>0</td>\n",
       "      <td>0</td>\n",
       "      <td>0</td>\n",
       "      <td>0</td>\n",
       "      <td>0</td>\n",
       "      <td>0</td>\n",
       "      <td>0</td>\n",
       "      <td>0</td>\n",
       "      <td>0</td>\n",
       "      <td>0</td>\n",
       "      <td>0</td>\n",
       "      <td>0</td>\n",
       "      <td>0</td>\n",
       "      <td>0</td>\n",
       "      <td>0</td>\n",
       "      <td>0</td>\n",
       "      <td>0</td>\n",
       "      <td>0</td>\n",
       "      <td>0</td>\n",
       "      <td>0</td>\n",
       "      <td>0</td>\n",
       "      <td>0</td>\n",
       "      <td>0</td>\n",
       "      <td>0</td>\n",
       "      <td>0</td>\n",
       "      <td>0</td>\n",
       "      <td>0</td>\n",
       "      <td>0</td>\n",
       "      <td>0</td>\n",
       "      <td>0</td>\n",
       "      <td>0</td>\n",
       "      <td>0</td>\n",
       "      <td>0</td>\n",
       "      <td>0</td>\n",
       "      <td>0</td>\n",
       "      <td>0</td>\n",
       "      <td>0</td>\n",
       "      <td>0</td>\n",
       "      <td>0</td>\n",
       "      <td>0</td>\n",
       "      <td>0</td>\n",
       "      <td>0</td>\n",
       "      <td>0</td>\n",
       "      <td>0</td>\n",
       "      <td>0</td>\n",
       "      <td>0</td>\n",
       "      <td>0</td>\n",
       "      <td>0</td>\n",
       "      <td>0</td>\n",
       "    </tr>\n",
       "    <tr>\n",
       "      <th>2</th>\n",
       "      <td>0.93</td>\n",
       "      <td>118220.22</td>\n",
       "      <td>794.70</td>\n",
       "      <td>109149.67</td>\n",
       "      <td>130.50</td>\n",
       "      <td>8145.35</td>\n",
       "      <td>8042.21</td>\n",
       "      <td>103.14</td>\n",
       "      <td>0.0</td>\n",
       "      <td>0</td>\n",
       "      <td>2015</td>\n",
       "      <td>12</td>\n",
       "      <td>1</td>\n",
       "      <td>0</td>\n",
       "      <td>0</td>\n",
       "      <td>0</td>\n",
       "      <td>1</td>\n",
       "      <td>0</td>\n",
       "      <td>0</td>\n",
       "      <td>0</td>\n",
       "      <td>0</td>\n",
       "      <td>0</td>\n",
       "      <td>0</td>\n",
       "      <td>0</td>\n",
       "      <td>0</td>\n",
       "      <td>0</td>\n",
       "      <td>0</td>\n",
       "      <td>0</td>\n",
       "      <td>0</td>\n",
       "      <td>0</td>\n",
       "      <td>0</td>\n",
       "      <td>0</td>\n",
       "      <td>0</td>\n",
       "      <td>0</td>\n",
       "      <td>0</td>\n",
       "      <td>0</td>\n",
       "      <td>0</td>\n",
       "      <td>0</td>\n",
       "      <td>0</td>\n",
       "      <td>0</td>\n",
       "      <td>0</td>\n",
       "      <td>0</td>\n",
       "      <td>0</td>\n",
       "      <td>0</td>\n",
       "      <td>0</td>\n",
       "      <td>0</td>\n",
       "      <td>0</td>\n",
       "      <td>0</td>\n",
       "      <td>0</td>\n",
       "      <td>0</td>\n",
       "      <td>0</td>\n",
       "      <td>0</td>\n",
       "      <td>0</td>\n",
       "      <td>0</td>\n",
       "      <td>0</td>\n",
       "      <td>0</td>\n",
       "      <td>0</td>\n",
       "      <td>0</td>\n",
       "      <td>0</td>\n",
       "      <td>0</td>\n",
       "      <td>0</td>\n",
       "      <td>0</td>\n",
       "      <td>0</td>\n",
       "      <td>0</td>\n",
       "      <td>0</td>\n",
       "      <td>0</td>\n",
       "      <td>0</td>\n",
       "      <td>0</td>\n",
       "      <td>0</td>\n",
       "      <td>0</td>\n",
       "    </tr>\n",
       "    <tr>\n",
       "      <th>3</th>\n",
       "      <td>1.08</td>\n",
       "      <td>78992.15</td>\n",
       "      <td>1132.00</td>\n",
       "      <td>71976.41</td>\n",
       "      <td>72.58</td>\n",
       "      <td>5811.16</td>\n",
       "      <td>5677.40</td>\n",
       "      <td>133.76</td>\n",
       "      <td>0.0</td>\n",
       "      <td>0</td>\n",
       "      <td>2015</td>\n",
       "      <td>12</td>\n",
       "      <td>1</td>\n",
       "      <td>0</td>\n",
       "      <td>0</td>\n",
       "      <td>0</td>\n",
       "      <td>1</td>\n",
       "      <td>0</td>\n",
       "      <td>0</td>\n",
       "      <td>0</td>\n",
       "      <td>0</td>\n",
       "      <td>0</td>\n",
       "      <td>0</td>\n",
       "      <td>0</td>\n",
       "      <td>0</td>\n",
       "      <td>0</td>\n",
       "      <td>0</td>\n",
       "      <td>0</td>\n",
       "      <td>0</td>\n",
       "      <td>0</td>\n",
       "      <td>0</td>\n",
       "      <td>0</td>\n",
       "      <td>0</td>\n",
       "      <td>0</td>\n",
       "      <td>0</td>\n",
       "      <td>0</td>\n",
       "      <td>0</td>\n",
       "      <td>0</td>\n",
       "      <td>0</td>\n",
       "      <td>0</td>\n",
       "      <td>0</td>\n",
       "      <td>0</td>\n",
       "      <td>0</td>\n",
       "      <td>0</td>\n",
       "      <td>0</td>\n",
       "      <td>0</td>\n",
       "      <td>0</td>\n",
       "      <td>0</td>\n",
       "      <td>0</td>\n",
       "      <td>0</td>\n",
       "      <td>0</td>\n",
       "      <td>0</td>\n",
       "      <td>0</td>\n",
       "      <td>0</td>\n",
       "      <td>0</td>\n",
       "      <td>0</td>\n",
       "      <td>0</td>\n",
       "      <td>0</td>\n",
       "      <td>0</td>\n",
       "      <td>0</td>\n",
       "      <td>0</td>\n",
       "      <td>0</td>\n",
       "      <td>0</td>\n",
       "      <td>0</td>\n",
       "      <td>0</td>\n",
       "      <td>0</td>\n",
       "      <td>0</td>\n",
       "      <td>0</td>\n",
       "      <td>0</td>\n",
       "      <td>0</td>\n",
       "    </tr>\n",
       "    <tr>\n",
       "      <th>4</th>\n",
       "      <td>1.28</td>\n",
       "      <td>51039.60</td>\n",
       "      <td>941.48</td>\n",
       "      <td>43838.39</td>\n",
       "      <td>75.78</td>\n",
       "      <td>6183.95</td>\n",
       "      <td>5986.26</td>\n",
       "      <td>197.69</td>\n",
       "      <td>0.0</td>\n",
       "      <td>0</td>\n",
       "      <td>2015</td>\n",
       "      <td>11</td>\n",
       "      <td>1</td>\n",
       "      <td>0</td>\n",
       "      <td>0</td>\n",
       "      <td>0</td>\n",
       "      <td>1</td>\n",
       "      <td>0</td>\n",
       "      <td>0</td>\n",
       "      <td>0</td>\n",
       "      <td>0</td>\n",
       "      <td>0</td>\n",
       "      <td>0</td>\n",
       "      <td>0</td>\n",
       "      <td>0</td>\n",
       "      <td>0</td>\n",
       "      <td>0</td>\n",
       "      <td>0</td>\n",
       "      <td>0</td>\n",
       "      <td>0</td>\n",
       "      <td>0</td>\n",
       "      <td>0</td>\n",
       "      <td>0</td>\n",
       "      <td>0</td>\n",
       "      <td>0</td>\n",
       "      <td>0</td>\n",
       "      <td>0</td>\n",
       "      <td>0</td>\n",
       "      <td>0</td>\n",
       "      <td>0</td>\n",
       "      <td>0</td>\n",
       "      <td>0</td>\n",
       "      <td>0</td>\n",
       "      <td>0</td>\n",
       "      <td>0</td>\n",
       "      <td>0</td>\n",
       "      <td>0</td>\n",
       "      <td>0</td>\n",
       "      <td>0</td>\n",
       "      <td>0</td>\n",
       "      <td>0</td>\n",
       "      <td>0</td>\n",
       "      <td>0</td>\n",
       "      <td>0</td>\n",
       "      <td>0</td>\n",
       "      <td>0</td>\n",
       "      <td>0</td>\n",
       "      <td>0</td>\n",
       "      <td>0</td>\n",
       "      <td>0</td>\n",
       "      <td>0</td>\n",
       "      <td>0</td>\n",
       "      <td>0</td>\n",
       "      <td>0</td>\n",
       "      <td>0</td>\n",
       "      <td>0</td>\n",
       "      <td>0</td>\n",
       "      <td>0</td>\n",
       "      <td>0</td>\n",
       "      <td>0</td>\n",
       "    </tr>\n",
       "  </tbody>\n",
       "</table>\n",
       "</div>"
      ],
      "text/plain": [
       "   AveragePrice  Total Volume     4046       4225    4770  Total Bags  \\\n",
       "0          1.33      64236.62  1036.74   54454.85   48.16     8696.87   \n",
       "1          1.35      54876.98   674.28   44638.81   58.33     9505.56   \n",
       "2          0.93     118220.22   794.70  109149.67  130.50     8145.35   \n",
       "3          1.08      78992.15  1132.00   71976.41   72.58     5811.16   \n",
       "4          1.28      51039.60   941.48   43838.39   75.78     6183.95   \n",
       "\n",
       "   Small Bags  Large Bags  XLarge Bags  type  year  month  winter  spring  \\\n",
       "0     8603.62       93.25          0.0     0  2015     12       1       0   \n",
       "1     9408.07       97.49          0.0     0  2015     12       1       0   \n",
       "2     8042.21      103.14          0.0     0  2015     12       1       0   \n",
       "3     5677.40      133.76          0.0     0  2015     12       1       0   \n",
       "4     5986.26      197.69          0.0     0  2015     11       1       0   \n",
       "\n",
       "   summer  autumn  region_Albany  region_Atlanta  region_BaltimoreWashington  \\\n",
       "0       0       0              1               0                           0   \n",
       "1       0       0              1               0                           0   \n",
       "2       0       0              1               0                           0   \n",
       "3       0       0              1               0                           0   \n",
       "4       0       0              1               0                           0   \n",
       "\n",
       "   region_Boise  region_Boston  region_BuffaloRochester  region_California  \\\n",
       "0             0              0                        0                  0   \n",
       "1             0              0                        0                  0   \n",
       "2             0              0                        0                  0   \n",
       "3             0              0                        0                  0   \n",
       "4             0              0                        0                  0   \n",
       "\n",
       "   region_Charlotte  region_Chicago  region_CincinnatiDayton  region_Columbus  \\\n",
       "0                 0               0                        0                0   \n",
       "1                 0               0                        0                0   \n",
       "2                 0               0                        0                0   \n",
       "3                 0               0                        0                0   \n",
       "4                 0               0                        0                0   \n",
       "\n",
       "   region_DallasFtWorth  region_Denver  region_Detroit  region_GrandRapids  \\\n",
       "0                     0              0               0                   0   \n",
       "1                     0              0               0                   0   \n",
       "2                     0              0               0                   0   \n",
       "3                     0              0               0                   0   \n",
       "4                     0              0               0                   0   \n",
       "\n",
       "   region_GreatLakes  region_HarrisburgScranton  region_HartfordSpringfield  \\\n",
       "0                  0                          0                           0   \n",
       "1                  0                          0                           0   \n",
       "2                  0                          0                           0   \n",
       "3                  0                          0                           0   \n",
       "4                  0                          0                           0   \n",
       "\n",
       "   region_Houston  region_Indianapolis  region_Jacksonville  region_LasVegas  \\\n",
       "0               0                    0                    0                0   \n",
       "1               0                    0                    0                0   \n",
       "2               0                    0                    0                0   \n",
       "3               0                    0                    0                0   \n",
       "4               0                    0                    0                0   \n",
       "\n",
       "   region_LosAngeles  region_Louisville  region_MiamiFtLauderdale  \\\n",
       "0                  0                  0                         0   \n",
       "1                  0                  0                         0   \n",
       "2                  0                  0                         0   \n",
       "3                  0                  0                         0   \n",
       "4                  0                  0                         0   \n",
       "\n",
       "   region_Midsouth  region_Nashville  region_NewOrleansMobile  region_NewYork  \\\n",
       "0                0                 0                        0               0   \n",
       "1                0                 0                        0               0   \n",
       "2                0                 0                        0               0   \n",
       "3                0                 0                        0               0   \n",
       "4                0                 0                        0               0   \n",
       "\n",
       "   region_Northeast  region_NorthernNewEngland  region_Orlando  \\\n",
       "0                 0                          0               0   \n",
       "1                 0                          0               0   \n",
       "2                 0                          0               0   \n",
       "3                 0                          0               0   \n",
       "4                 0                          0               0   \n",
       "\n",
       "   region_Philadelphia  region_PhoenixTucson  region_Pittsburgh  \\\n",
       "0                    0                     0                  0   \n",
       "1                    0                     0                  0   \n",
       "2                    0                     0                  0   \n",
       "3                    0                     0                  0   \n",
       "4                    0                     0                  0   \n",
       "\n",
       "   region_Plains  region_Portland  region_RaleighGreensboro  \\\n",
       "0              0                0                         0   \n",
       "1              0                0                         0   \n",
       "2              0                0                         0   \n",
       "3              0                0                         0   \n",
       "4              0                0                         0   \n",
       "\n",
       "   region_RichmondNorfolk  region_Roanoke  region_Sacramento  region_SanDiego  \\\n",
       "0                       0               0                  0                0   \n",
       "1                       0               0                  0                0   \n",
       "2                       0               0                  0                0   \n",
       "3                       0               0                  0                0   \n",
       "4                       0               0                  0                0   \n",
       "\n",
       "   region_SanFrancisco  region_Seattle  region_SouthCarolina  \\\n",
       "0                    0               0                     0   \n",
       "1                    0               0                     0   \n",
       "2                    0               0                     0   \n",
       "3                    0               0                     0   \n",
       "4                    0               0                     0   \n",
       "\n",
       "   region_SouthCentral  region_Southeast  region_Spokane  region_StLouis  \\\n",
       "0                    0                 0               0               0   \n",
       "1                    0                 0               0               0   \n",
       "2                    0                 0               0               0   \n",
       "3                    0                 0               0               0   \n",
       "4                    0                 0               0               0   \n",
       "\n",
       "   region_Syracuse  region_Tampa  region_TotalUS  region_West  \\\n",
       "0                0             0               0            0   \n",
       "1                0             0               0            0   \n",
       "2                0             0               0            0   \n",
       "3                0             0               0            0   \n",
       "4                0             0               0            0   \n",
       "\n",
       "   region_WestTexNewMexico  \n",
       "0                        0  \n",
       "1                        0  \n",
       "2                        0  \n",
       "3                        0  \n",
       "4                        0  "
      ]
     },
     "execution_count": 199,
     "metadata": {},
     "output_type": "execute_result"
    }
   ],
   "source": [
    "# rf\n",
    "\n",
    "rfdata = pd.read_csv('wholedata.csv')\n",
    "print(rfdata.shape)  \n",
    "rfdata.head() "
   ]
  },
  {
   "cell_type": "code",
   "execution_count": 200,
   "metadata": {},
   "outputs": [
    {
     "name": "stdout",
     "output_type": "stream",
     "text": [
      "69\n",
      "(18249, 69) (18249,)\n"
     ]
    }
   ],
   "source": [
    "rf_X = rfdata.drop('AveragePrice',axis=1)\n",
    "feature_list = list(rf_X.columns)  \n",
    "print(len(feature_list)) \n",
    "\n",
    "rf_y = rfdata['AveragePrice'] \n",
    "\n",
    "rf_X = rf_X.values\n",
    "rf_y = rf_y.values\n",
    "print(rf_X.shape,rf_y.shape) "
   ]
  },
  {
   "cell_type": "code",
   "execution_count": 201,
   "metadata": {},
   "outputs": [
    {
     "name": "stdout",
     "output_type": "stream",
     "text": [
      "(14599, 69) (14599,)\n",
      "---------------------\n",
      "(3650, 69) (3650,)\n"
     ]
    }
   ],
   "source": [
    "rf_X_train, rf_X_test, rf_y_train, rf_y_test = train_test_split(rf_X, rf_y, test_size=0.2, random_state=2020)\n",
    "print(rf_X_train.shape, rf_y_train.shape)\n",
    "print('---------------------')\n",
    "print(rf_X_test.shape, rf_y_test.shape)"
   ]
  },
  {
   "cell_type": "code",
   "execution_count": 202,
   "metadata": {},
   "outputs": [],
   "source": [
    "from sklearn.ensemble import RandomForestRegressor\n",
    "rfs = []  \n",
    "rfs.append(('Random Forest',RandomForestRegressor(n_estimators=1000,min_samples_split=2,min_samples_leaf=1,max_features=41,\n",
    "                              bootstrap=True,n_jobs= -1)))"
   ]
  },
  {
   "cell_type": "code",
   "execution_count": 203,
   "metadata": {},
   "outputs": [],
   "source": [
    "rf = RandomForestRegressor(n_estimators=1000,min_samples_split=2,min_samples_leaf=1,max_features=41,\n",
    "                              bootstrap=True,n_jobs= -1)"
   ]
  },
  {
   "cell_type": "code",
   "execution_count": 204,
   "metadata": {},
   "outputs": [
    {
     "data": {
      "text/plain": [
       "[('Random Forest',\n",
       "  RandomForestRegressor(bootstrap=True, ccp_alpha=0.0, criterion='mse',\n",
       "                        max_depth=None, max_features=41, max_leaf_nodes=None,\n",
       "                        max_samples=None, min_impurity_decrease=0.0,\n",
       "                        min_impurity_split=None, min_samples_leaf=1,\n",
       "                        min_samples_split=2, min_weight_fraction_leaf=0.0,\n",
       "                        n_estimators=1000, n_jobs=-1, oob_score=False,\n",
       "                        random_state=None, verbose=0, warm_start=False))]"
      ]
     },
     "execution_count": 204,
     "metadata": {},
     "output_type": "execute_result"
    }
   ],
   "source": [
    "rfs "
   ]
  },
  {
   "cell_type": "code",
   "execution_count": 205,
   "metadata": {},
   "outputs": [
    {
     "name": "stdout",
     "output_type": "stream",
     "text": [
      "[array([-0.12127935, -0.11923538, -0.12581674, -0.12016937, -0.12207739,\n",
      "       -0.12933503, -0.12032405, -0.12210659, -0.12524517, -0.12743599])]\n",
      "Model Name:Random Forest Model Score:0.1233 Model Std:0.0033\n"
     ]
    }
   ],
   "source": [
    "from sklearn.model_selection import cross_val_score\n",
    "rf_results = []  \n",
    "rf_names = [] \n",
    "for name, model in rfs:\n",
    "    kfold = KFold(n_splits=10, random_state=2020) \n",
    "    cv_results = cross_val_score(model, rf_X_train, rf_y_train, cv=kfold, scoring=RMSE_scorer) \n",
    "    rf_results.append(cv_results) \n",
    "    rf_names.append(name) \n",
    "    print(rf_results) \n",
    "    print(\"Model Name:{} Model Score:{:.4f} Model Std:{:.4f}\".format(name, cv_results.mean()*-1, cv_results.std()))  \n",
    "    \n",
    "    "
   ]
  },
  {
   "cell_type": "code",
   "execution_count": 206,
   "metadata": {},
   "outputs": [
    {
     "data": {
      "text/plain": [
       "[array([0.12127935, 0.11923538, 0.12581674, 0.12016937, 0.12207739,\n",
       "        0.12933503, 0.12032405, 0.12210659, 0.12524517, 0.12743599])]"
      ]
     },
     "execution_count": 206,
     "metadata": {},
     "output_type": "execute_result"
    }
   ],
   "source": [
    "rf_resultsabs = [x*-1 for x in rf_results]\n",
    "rf_resultsabs "
   ]
  },
  {
   "cell_type": "code",
   "execution_count": 217,
   "metadata": {},
   "outputs": [
    {
     "data": {
      "text/plain": [
       "Text(0, 0.5, 'Scores')"
      ]
     },
     "execution_count": 217,
     "metadata": {},
     "output_type": "execute_result"
    },
    {
     "data": {
      "image/png": "[encoded data removed]",
      "text/plain": [
       "<Figure size 720x504 with 1 Axes>"
      ]
     },
     "metadata": {
      "needs_background": "light"
     },
     "output_type": "display_data"
    }
   ],
   "source": [
    "f,ax = plt.subplots(figsize = (10,7))\n",
    "sns.boxplot(x=names, y=rf_resultsabs,palette=\"viridis\")\n",
    "plt.title(\"Compare Model's Scores\",fontsize = 20,color='blue')\n",
    "plt.xlabel('Models',fontsize = 15,color='blue')\n",
    "plt.ylabel('Scores',fontsize = 15,color='blue')"
   ]
  },
  {
   "cell_type": "code",
   "execution_count": 218,
   "metadata": {},
   "outputs": [
    {
     "data": {
      "text/plain": [
       "array([[0.12127935],\n",
       "       [0.11923538],\n",
       "       [0.12581674],\n",
       "       [0.12016937],\n",
       "       [0.12207739],\n",
       "       [0.12933503],\n",
       "       [0.12032405],\n",
       "       [0.12210659],\n",
       "       [0.12524517],\n",
       "       [0.12743599]])"
      ]
     },
     "execution_count": 218,
     "metadata": {},
     "output_type": "execute_result"
    }
   ],
   "source": [
    "dfrf_resultsabs = pd.DataFrame(rf_resultsabs).values \n",
    "dfrf_resultsabs = dfrf_resultsabs.reshape(-1,1)\n",
    "dfrf_resultsabs"
   ]
  },
  {
   "cell_type": "code",
   "execution_count": 219,
   "metadata": {},
   "outputs": [
    {
     "data": {
      "text/plain": [
       "array([[0.11911826, 0.12127935],\n",
       "       [0.11325605, 0.11923538],\n",
       "       [0.12419973, 0.12581674],\n",
       "       [0.11863537, 0.12016937],\n",
       "       [0.12046035, 0.12207739],\n",
       "       [0.11920651, 0.12933503],\n",
       "       [0.11751655, 0.12032405],\n",
       "       [0.11845687, 0.12210659],\n",
       "       [0.12474027, 0.12524517],\n",
       "       [0.12465232, 0.12743599]])"
      ]
     },
     "execution_count": 219,
     "metadata": {},
     "output_type": "execute_result"
    }
   ],
   "source": [
    "result = np.concatenate((dfresultsabs,dfrf_resultsabs),axis = 1)\n",
    "result"
   ]
  },
  {
   "cell_type": "code",
   "execution_count": 220,
   "metadata": {},
   "outputs": [
    {
     "data": {
      "text/html": [
       "<div>\n",
       "<style scoped>\n",
       "    .dataframe tbody tr th:only-of-type {\n",
       "        vertical-align: middle;\n",
       "    }\n",
       "\n",
       "    .dataframe tbody tr th {\n",
       "        vertical-align: top;\n",
       "    }\n",
       "\n",
       "    .dataframe thead th {\n",
       "        text-align: right;\n",
       "    }\n",
       "</style>\n",
       "<table border=\"1\" class=\"dataframe\">\n",
       "  <thead>\n",
       "    <tr style=\"text-align: right;\">\n",
       "      <th></th>\n",
       "      <th>XGBoost</th>\n",
       "      <th>Random Forest</th>\n",
       "    </tr>\n",
       "  </thead>\n",
       "  <tbody>\n",
       "    <tr>\n",
       "      <th>0</th>\n",
       "      <td>0.119118</td>\n",
       "      <td>0.121279</td>\n",
       "    </tr>\n",
       "    <tr>\n",
       "      <th>1</th>\n",
       "      <td>0.113256</td>\n",
       "      <td>0.119235</td>\n",
       "    </tr>\n",
       "    <tr>\n",
       "      <th>2</th>\n",
       "      <td>0.124200</td>\n",
       "      <td>0.125817</td>\n",
       "    </tr>\n",
       "    <tr>\n",
       "      <th>3</th>\n",
       "      <td>0.118635</td>\n",
       "      <td>0.120169</td>\n",
       "    </tr>\n",
       "    <tr>\n",
       "      <th>4</th>\n",
       "      <td>0.120460</td>\n",
       "      <td>0.122077</td>\n",
       "    </tr>\n",
       "    <tr>\n",
       "      <th>5</th>\n",
       "      <td>0.119207</td>\n",
       "      <td>0.129335</td>\n",
       "    </tr>\n",
       "    <tr>\n",
       "      <th>6</th>\n",
       "      <td>0.117517</td>\n",
       "      <td>0.120324</td>\n",
       "    </tr>\n",
       "    <tr>\n",
       "      <th>7</th>\n",
       "      <td>0.118457</td>\n",
       "      <td>0.122107</td>\n",
       "    </tr>\n",
       "    <tr>\n",
       "      <th>8</th>\n",
       "      <td>0.124740</td>\n",
       "      <td>0.125245</td>\n",
       "    </tr>\n",
       "    <tr>\n",
       "      <th>9</th>\n",
       "      <td>0.124652</td>\n",
       "      <td>0.127436</td>\n",
       "    </tr>\n",
       "  </tbody>\n",
       "</table>\n",
       "</div>"
      ],
      "text/plain": [
       "    XGBoost  Random Forest\n",
       "0  0.119118       0.121279\n",
       "1  0.113256       0.119235\n",
       "2  0.124200       0.125817\n",
       "3  0.118635       0.120169\n",
       "4  0.120460       0.122077\n",
       "5  0.119207       0.129335\n",
       "6  0.117517       0.120324\n",
       "7  0.118457       0.122107\n",
       "8  0.124740       0.125245\n",
       "9  0.124652       0.127436"
      ]
     },
     "execution_count": 220,
     "metadata": {},
     "output_type": "execute_result"
    }
   ],
   "source": [
    "dfresult = pd.DataFrame(result)\n",
    "dfresult.columns = ['XGBoost','Random Forest']\n",
    "dfresult"
   ]
  },
  {
   "cell_type": "code",
   "execution_count": 221,
   "metadata": {},
   "outputs": [],
   "source": [
    "dfresult.to_csv('result.csv',index=None)"
   ]
  },
  {
   "cell_type": "code",
   "execution_count": 222,
   "metadata": {},
   "outputs": [],
   "source": [
    "dfresult = pd.read_csv('result.csv')"
   ]
  },
  {
   "cell_type": "code",
   "execution_count": 224,
   "metadata": {},
   "outputs": [
    {
     "data": {
      "image/png": "[encoded data removed]",
      "text/plain": [
       "<Figure size 720x720 with 1 Axes>"
      ]
     },
     "metadata": {
      "needs_background": "light"
     },
     "output_type": "display_data"
    }
   ],
   "source": [
    "plt.figure(figsize=(10, 10))\n",
    "sns.boxplot(data=dfresult,orient=\"v\",palette=\"Set3\") \n",
    "plt.title(\"Compare Model's RMSE Scores\",fontsize = 20,color='black')\n",
    "plt.xlabel('Models',fontsize = 15,color='black')\n",
    "plt.ylabel('RMSE Scores',fontsize = 15,color='black') \n",
    "plt.savefig('scatter.png')\n",
    "plt.savefig('compare model\\'s RMSE.png')"
   ]
  },
  {
   "cell_type": "code",
   "execution_count": null,
   "metadata": {},
   "outputs": [],
   "source": []
  },
  {
   "cell_type": "code",
   "execution_count": 99,
   "metadata": {},
   "outputs": [
    {
     "data": {
      "image/png": "[encoded data removed]",
      "text/plain": [
       "<Figure size 1080x720 with 1 Axes>"
      ]
     },
     "metadata": {},
     "output_type": "display_data"
    }
   ],
   "source": [
    "plt.figure(figsize=(15, 10))\n",
    "sns.boxplot(data=dfresult,orient=\"h\",palette=sns.cubehelix_palette(8, start=.6, rot=-.75))\n",
    "plt.title(\"Compare Model's RMSE Scores\",fontsize = 20,color='black')\n",
    "plt.xlabel('Models',fontsize = 15,color='black')\n",
    "plt.ylabel('RMSE Scores',fontsize = 15,color='black')  \n",
    "\n",
    "plt.xlim(xmin = 0.1)\n",
    "plt.xlim(xmax = 0.17)\n",
    "plt.savefig('scatter1.png')"
   ]
  },
  {
   "cell_type": "code",
   "execution_count": 8,
   "metadata": {},
   "outputs": [
    {
     "data": {
      "image/png": "[encoded data removed]",
      "text/plain": [
       "<Figure size 432x288 with 1 Axes>"
      ]
     },
     "metadata": {
      "needs_background": "light"
     },
     "output_type": "display_data"
    }
   ],
   "source": [
    "plt.boxplot(x=dfresult.values,labels=dfresult.columns,whis=1.5)\n",
    "plt.show()"
   ]
  },
  {
   "cell_type": "code",
   "execution_count": 9,
   "metadata": {},
   "outputs": [
    {
     "data": {
      "image/png": "[encoded data removed]",
      "text/plain": [
       "<Figure size 432x288 with 1 Axes>"
      ]
     },
     "metadata": {
      "needs_background": "light"
     },
     "output_type": "display_data"
    }
   ],
   "source": [
    "dfresult.boxplot()\n",
    "plt.show()"
   ]
  },
  {
   "cell_type": "code",
   "execution_count": null,
   "metadata": {},
   "outputs": [],
   "source": [
    "}"
   ]
  }
 ],
 "metadata": {
  "kernelspec": {
   "display_name": "Python 3",
   "language": "python",
   "name": "python3"
  },
  "language_info": {
   "codemirror_mode": {
    "name": "ipython",
    "version": 3
   },
   "file_extension": ".py",
   "mimetype": "text/x-python",
   "name": "python",
   "nbconvert_exporter": "python",
   "pygments_lexer": "ipython3",
   "version": "3.7.4"
  },
  "toc": {
   "base_numbering": 1,
   "nav_menu": {},
   "number_sections": true,
   "sideBar": true,
   "skip_h1_title": false,
   "title_cell": "Table of Contents",
   "title_sidebar": "Contents",
   "toc_cell": false,
   "toc_position": {
    "height": "calc(100% - 180px)",
    "left": "10px",
    "top": "150px",
    "width": "288px"
   },
   "toc_section_display": true,
   "toc_window_display": true
  }
 },
 "nbformat": 4,
 "nbformat_minor": 2
}
